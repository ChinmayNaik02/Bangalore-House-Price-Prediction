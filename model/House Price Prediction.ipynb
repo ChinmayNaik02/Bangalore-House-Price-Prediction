{
 "cells": [
  {
   "metadata": {},
   "cell_type": "markdown",
   "source": [
    "# **A project on predicting house prices**\n",
    "\n",
    "---\n",
    "\n",
    "This notebook presents a comprehensive analysis and predictive modeling project for predicting the prices of houses in Bangalore. The dataset includes various features such as area type, location, total square footage, number of bathrooms, balconies, and the number of bedrooms (BHK). We will preprocess the data, encode categorical features, and use machine learning techniques to train and evaluate our model. The final model will enable us to predict house prices accurately based on the provided features.\n",
    "\n",
    "\n",
    "### **Attributes and Definitions in the dataset:**\n",
    "\n",
    "There are total of 9 features\n",
    "\n",
    "1. Area_type - describes the area Availability - when it can be possessed or when it is ready(categorical and time-series) \n",
    "2. Location - where it is located in Bengaluru \n",
    "3. Price - Value of the property in lakhs(INR) Size - in BHK or Bedroom (1-10 or more) \n",
    "4. Society - to which society it belongs Total_sqft - size of the property in square feet \n",
    "5. Bath - No. of bathrooms \n",
    "6. Balcony - No. of the balcony Problem Statement\n",
    "\n",
    "### **Project Goal**\n",
    "\n",
    "With the given 9 features(categorical and continuous) build a model to predict the price of houses in Bengaluru.\n",
    "\n",
    "### **Key Steps:**\n",
    "\n",
    "**Data Preprocessing:** Before training the machine learning models, the data undergoes preprocessing steps to handle missing values, encode categorical variables, dropping irrelevant columns and feature engineering. This ensures that the data is properly prepared for model training and improves the model's performance.\n",
    "\n",
    "**Model Building:** The notebook demonstrates the process of building and evaluating machine learning models for term deposit subscription prediction. Various classification algorithms, such as logistic regression, decision trees, random forests, etc., are explored. Grid search is used for hyperparameter tuning to optimize model performance.\n",
    "\n",
    "**Conclusion:** Finally, the notebook concludes with a summary of the findings and recommendations for further improvement or future work.\n",
    "\n",
    "\n",
    "---"
   ],
   "id": "8c45c5c90981ab68"
  },
  {
   "metadata": {},
   "cell_type": "markdown",
   "source": "# **Data Preprocessing**",
   "id": "43f59a903ec39148"
  },
  {
   "metadata": {},
   "cell_type": "markdown",
   "source": "**Importing all the libraries to be used**",
   "id": "5c6684075bf6ec73"
  },
  {
   "cell_type": "code",
   "id": "initial_id",
   "metadata": {
    "collapsed": true,
    "ExecuteTime": {
     "end_time": "2024-06-20T14:29:14.611507Z",
     "start_time": "2024-06-20T14:29:12.514176Z"
    }
   },
   "source": [
    "import pandas as pd\n",
    "import numpy as np\n",
    "import matplotlib.pyplot as plt\n",
    "plt.rcParams['figure.figsize'] = (20, 10)"
   ],
   "outputs": [],
   "execution_count": 1
  },
  {
   "metadata": {},
   "cell_type": "markdown",
   "source": "### **Loading the dataset**",
   "id": "5b52413367bce6a9"
  },
  {
   "metadata": {
    "ExecuteTime": {
     "end_time": "2024-06-20T14:29:14.662495Z",
     "start_time": "2024-06-20T14:29:14.614401Z"
    }
   },
   "cell_type": "code",
   "source": "df1 = pd.read_csv('Bengaluru_House_Data.csv')",
   "id": "3593131b9d6ac59e",
   "outputs": [],
   "execution_count": 2
  },
  {
   "metadata": {
    "ExecuteTime": {
     "end_time": "2024-06-20T14:29:14.697798Z",
     "start_time": "2024-06-20T14:29:14.663505Z"
    }
   },
   "cell_type": "code",
   "source": "df1.head()",
   "id": "4c9f8d1eb406612f",
   "outputs": [
    {
     "data": {
      "text/plain": [
       "              area_type   availability                  location       size  \\\n",
       "0  Super built-up  Area         19-Dec  Electronic City Phase II      2 BHK   \n",
       "1            Plot  Area  Ready To Move          Chikka Tirupathi  4 Bedroom   \n",
       "2        Built-up  Area  Ready To Move               Uttarahalli      3 BHK   \n",
       "3  Super built-up  Area  Ready To Move        Lingadheeranahalli      3 BHK   \n",
       "4  Super built-up  Area  Ready To Move                  Kothanur      2 BHK   \n",
       "\n",
       "   society total_sqft  bath  balcony   price  \n",
       "0  Coomee        1056   2.0      1.0   39.07  \n",
       "1  Theanmp       2600   5.0      3.0  120.00  \n",
       "2      NaN       1440   2.0      3.0   62.00  \n",
       "3  Soiewre       1521   3.0      1.0   95.00  \n",
       "4      NaN       1200   2.0      1.0   51.00  "
      ],
      "text/html": [
       "<div>\n",
       "<style scoped>\n",
       "    .dataframe tbody tr th:only-of-type {\n",
       "        vertical-align: middle;\n",
       "    }\n",
       "\n",
       "    .dataframe tbody tr th {\n",
       "        vertical-align: top;\n",
       "    }\n",
       "\n",
       "    .dataframe thead th {\n",
       "        text-align: right;\n",
       "    }\n",
       "</style>\n",
       "<table border=\"1\" class=\"dataframe\">\n",
       "  <thead>\n",
       "    <tr style=\"text-align: right;\">\n",
       "      <th></th>\n",
       "      <th>area_type</th>\n",
       "      <th>availability</th>\n",
       "      <th>location</th>\n",
       "      <th>size</th>\n",
       "      <th>society</th>\n",
       "      <th>total_sqft</th>\n",
       "      <th>bath</th>\n",
       "      <th>balcony</th>\n",
       "      <th>price</th>\n",
       "    </tr>\n",
       "  </thead>\n",
       "  <tbody>\n",
       "    <tr>\n",
       "      <th>0</th>\n",
       "      <td>Super built-up  Area</td>\n",
       "      <td>19-Dec</td>\n",
       "      <td>Electronic City Phase II</td>\n",
       "      <td>2 BHK</td>\n",
       "      <td>Coomee</td>\n",
       "      <td>1056</td>\n",
       "      <td>2.0</td>\n",
       "      <td>1.0</td>\n",
       "      <td>39.07</td>\n",
       "    </tr>\n",
       "    <tr>\n",
       "      <th>1</th>\n",
       "      <td>Plot  Area</td>\n",
       "      <td>Ready To Move</td>\n",
       "      <td>Chikka Tirupathi</td>\n",
       "      <td>4 Bedroom</td>\n",
       "      <td>Theanmp</td>\n",
       "      <td>2600</td>\n",
       "      <td>5.0</td>\n",
       "      <td>3.0</td>\n",
       "      <td>120.00</td>\n",
       "    </tr>\n",
       "    <tr>\n",
       "      <th>2</th>\n",
       "      <td>Built-up  Area</td>\n",
       "      <td>Ready To Move</td>\n",
       "      <td>Uttarahalli</td>\n",
       "      <td>3 BHK</td>\n",
       "      <td>NaN</td>\n",
       "      <td>1440</td>\n",
       "      <td>2.0</td>\n",
       "      <td>3.0</td>\n",
       "      <td>62.00</td>\n",
       "    </tr>\n",
       "    <tr>\n",
       "      <th>3</th>\n",
       "      <td>Super built-up  Area</td>\n",
       "      <td>Ready To Move</td>\n",
       "      <td>Lingadheeranahalli</td>\n",
       "      <td>3 BHK</td>\n",
       "      <td>Soiewre</td>\n",
       "      <td>1521</td>\n",
       "      <td>3.0</td>\n",
       "      <td>1.0</td>\n",
       "      <td>95.00</td>\n",
       "    </tr>\n",
       "    <tr>\n",
       "      <th>4</th>\n",
       "      <td>Super built-up  Area</td>\n",
       "      <td>Ready To Move</td>\n",
       "      <td>Kothanur</td>\n",
       "      <td>2 BHK</td>\n",
       "      <td>NaN</td>\n",
       "      <td>1200</td>\n",
       "      <td>2.0</td>\n",
       "      <td>1.0</td>\n",
       "      <td>51.00</td>\n",
       "    </tr>\n",
       "  </tbody>\n",
       "</table>\n",
       "</div>"
      ]
     },
     "execution_count": 3,
     "metadata": {},
     "output_type": "execute_result"
    }
   ],
   "execution_count": 3
  },
  {
   "metadata": {
    "ExecuteTime": {
     "end_time": "2024-06-20T14:29:14.708397Z",
     "start_time": "2024-06-20T14:29:14.699980Z"
    }
   },
   "cell_type": "code",
   "source": "df1.shape",
   "id": "d2abac3e9c1830c5",
   "outputs": [
    {
     "data": {
      "text/plain": [
       "(13320, 9)"
      ]
     },
     "execution_count": 4,
     "metadata": {},
     "output_type": "execute_result"
    }
   ],
   "execution_count": 4
  },
  {
   "metadata": {},
   "cell_type": "markdown",
   "source": "### **Droping the irrelevent columns**",
   "id": "26abc831fb24b826"
  },
  {
   "metadata": {},
   "cell_type": "markdown",
   "source": "Right now, no column seems irrelevant, so we will keep the dataframe as it is",
   "id": "83e399dc5a2b9e71"
  },
  {
   "metadata": {},
   "cell_type": "markdown",
   "source": "### **Taking care of the missing data**",
   "id": "576fa4cb18680062"
  },
  {
   "metadata": {
    "ExecuteTime": {
     "end_time": "2024-06-20T14:29:14.723613Z",
     "start_time": "2024-06-20T14:29:14.711687Z"
    }
   },
   "cell_type": "code",
   "source": "df1.isnull().sum()",
   "id": "18d8b78da7249949",
   "outputs": [
    {
     "data": {
      "text/plain": [
       "area_type          0\n",
       "availability       0\n",
       "location           1\n",
       "size              16\n",
       "society         5502\n",
       "total_sqft         0\n",
       "bath              73\n",
       "balcony          609\n",
       "price              0\n",
       "dtype: int64"
      ]
     },
     "execution_count": 5,
     "metadata": {},
     "output_type": "execute_result"
    }
   ],
   "execution_count": 5
  },
  {
   "metadata": {},
   "cell_type": "markdown",
   "source": "We can see that the society feature is missing in significant amount of the records, so we will drop that column",
   "id": "3666382d6f794b4a"
  },
  {
   "metadata": {
    "ExecuteTime": {
     "end_time": "2024-06-20T14:29:14.737333Z",
     "start_time": "2024-06-20T14:29:14.724621Z"
    }
   },
   "cell_type": "code",
   "source": "df2 = df1.drop(axis=\"columns\", columns=\"society\")",
   "id": "513c5276a4f6ce2b",
   "outputs": [],
   "execution_count": 6
  },
  {
   "metadata": {},
   "cell_type": "markdown",
   "source": "We will now fill the NA values in bathroom with average number of bathrooms rounded off",
   "id": "6599123be41d9806"
  },
  {
   "metadata": {
    "ExecuteTime": {
     "end_time": "2024-06-20T14:29:14.745261Z",
     "start_time": "2024-06-20T14:29:14.738849Z"
    }
   },
   "cell_type": "code",
   "source": "df2['bath'] = df2['bath'].fillna(df2['bath'].mean().round())",
   "id": "9f61c2ecdf678243",
   "outputs": [],
   "execution_count": 7
  },
  {
   "metadata": {},
   "cell_type": "markdown",
   "source": "At last, we will drop all the rows with NA value",
   "id": "213ca86f05803f3e"
  },
  {
   "metadata": {
    "ExecuteTime": {
     "end_time": "2024-06-20T14:29:14.759797Z",
     "start_time": "2024-06-20T14:29:14.746636Z"
    }
   },
   "cell_type": "code",
   "source": "df2 = df2.dropna()",
   "id": "892063bec3b22684",
   "outputs": [],
   "execution_count": 8
  },
  {
   "metadata": {
    "ExecuteTime": {
     "end_time": "2024-06-20T14:29:14.766576Z",
     "start_time": "2024-06-20T14:29:14.760805Z"
    }
   },
   "cell_type": "code",
   "source": "df2.shape",
   "id": "3f73189a8ac073f4",
   "outputs": [
    {
     "data": {
      "text/plain": [
       "(12710, 8)"
      ]
     },
     "execution_count": 9,
     "metadata": {},
     "output_type": "execute_result"
    }
   ],
   "execution_count": 9
  },
  {
   "metadata": {},
   "cell_type": "markdown",
   "source": "### **Cleaning the data**",
   "id": "7499ec5a85b979b6"
  },
  {
   "metadata": {
    "ExecuteTime": {
     "end_time": "2024-06-20T14:29:14.778604Z",
     "start_time": "2024-06-20T14:29:14.767582Z"
    }
   },
   "cell_type": "code",
   "source": "df2['size'].unique()",
   "id": "4c2716f01dd9e993",
   "outputs": [
    {
     "data": {
      "text/plain": [
       "array(['2 BHK', '4 Bedroom', '3 BHK', '3 Bedroom', '1 BHK', '1 RK',\n",
       "       '4 BHK', '1 Bedroom', '2 Bedroom', '6 Bedroom', '8 Bedroom',\n",
       "       '7 Bedroom', '5 BHK', '7 BHK', '6 BHK', '5 Bedroom', '11 BHK',\n",
       "       '9 BHK', '9 Bedroom', '27 BHK', '11 Bedroom', '43 Bedroom',\n",
       "       '14 BHK', '8 BHK', '12 Bedroom', '10 Bedroom', '13 BHK'],\n",
       "      dtype=object)"
      ]
     },
     "execution_count": 10,
     "metadata": {},
     "output_type": "execute_result"
    }
   ],
   "execution_count": 10
  },
  {
   "metadata": {},
   "cell_type": "markdown",
   "source": "We can see another problem with the dataset in the 'size' column, which is the inconsistency in the different value of the column. The 'size' column is supposed to represent the number of bedrooms in the house. So we will use the split function to extract the number",
   "id": "644f01d629cfafd6"
  },
  {
   "metadata": {
    "ExecuteTime": {
     "end_time": "2024-06-20T14:29:14.795339Z",
     "start_time": "2024-06-20T14:29:14.780612Z"
    }
   },
   "cell_type": "code",
   "source": "df2['BHK'] = df2['size'].apply(lambda x: int(x.split(' ')[0]))",
   "id": "97bddf2d1d81115a",
   "outputs": [],
   "execution_count": 11
  },
  {
   "metadata": {
    "ExecuteTime": {
     "end_time": "2024-06-20T14:29:14.809568Z",
     "start_time": "2024-06-20T14:29:14.796788Z"
    }
   },
   "cell_type": "code",
   "source": "df2[['BHK', 'size']]",
   "id": "f22803ed95b71972",
   "outputs": [
    {
     "data": {
      "text/plain": [
       "       BHK       size\n",
       "0        2      2 BHK\n",
       "1        4  4 Bedroom\n",
       "2        3      3 BHK\n",
       "3        3      3 BHK\n",
       "4        2      2 BHK\n",
       "...    ...        ...\n",
       "13314    3      3 BHK\n",
       "13315    5  5 Bedroom\n",
       "13317    2      2 BHK\n",
       "13318    4      4 BHK\n",
       "13319    1      1 BHK\n",
       "\n",
       "[12710 rows x 2 columns]"
      ],
      "text/html": [
       "<div>\n",
       "<style scoped>\n",
       "    .dataframe tbody tr th:only-of-type {\n",
       "        vertical-align: middle;\n",
       "    }\n",
       "\n",
       "    .dataframe tbody tr th {\n",
       "        vertical-align: top;\n",
       "    }\n",
       "\n",
       "    .dataframe thead th {\n",
       "        text-align: right;\n",
       "    }\n",
       "</style>\n",
       "<table border=\"1\" class=\"dataframe\">\n",
       "  <thead>\n",
       "    <tr style=\"text-align: right;\">\n",
       "      <th></th>\n",
       "      <th>BHK</th>\n",
       "      <th>size</th>\n",
       "    </tr>\n",
       "  </thead>\n",
       "  <tbody>\n",
       "    <tr>\n",
       "      <th>0</th>\n",
       "      <td>2</td>\n",
       "      <td>2 BHK</td>\n",
       "    </tr>\n",
       "    <tr>\n",
       "      <th>1</th>\n",
       "      <td>4</td>\n",
       "      <td>4 Bedroom</td>\n",
       "    </tr>\n",
       "    <tr>\n",
       "      <th>2</th>\n",
       "      <td>3</td>\n",
       "      <td>3 BHK</td>\n",
       "    </tr>\n",
       "    <tr>\n",
       "      <th>3</th>\n",
       "      <td>3</td>\n",
       "      <td>3 BHK</td>\n",
       "    </tr>\n",
       "    <tr>\n",
       "      <th>4</th>\n",
       "      <td>2</td>\n",
       "      <td>2 BHK</td>\n",
       "    </tr>\n",
       "    <tr>\n",
       "      <th>...</th>\n",
       "      <td>...</td>\n",
       "      <td>...</td>\n",
       "    </tr>\n",
       "    <tr>\n",
       "      <th>13314</th>\n",
       "      <td>3</td>\n",
       "      <td>3 BHK</td>\n",
       "    </tr>\n",
       "    <tr>\n",
       "      <th>13315</th>\n",
       "      <td>5</td>\n",
       "      <td>5 Bedroom</td>\n",
       "    </tr>\n",
       "    <tr>\n",
       "      <th>13317</th>\n",
       "      <td>2</td>\n",
       "      <td>2 BHK</td>\n",
       "    </tr>\n",
       "    <tr>\n",
       "      <th>13318</th>\n",
       "      <td>4</td>\n",
       "      <td>4 BHK</td>\n",
       "    </tr>\n",
       "    <tr>\n",
       "      <th>13319</th>\n",
       "      <td>1</td>\n",
       "      <td>1 BHK</td>\n",
       "    </tr>\n",
       "  </tbody>\n",
       "</table>\n",
       "<p>12710 rows × 2 columns</p>\n",
       "</div>"
      ]
     },
     "execution_count": 12,
     "metadata": {},
     "output_type": "execute_result"
    }
   ],
   "execution_count": 12
  },
  {
   "metadata": {
    "ExecuteTime": {
     "end_time": "2024-06-20T14:29:14.822415Z",
     "start_time": "2024-06-20T14:29:14.812998Z"
    }
   },
   "cell_type": "code",
   "source": "type(df2.BHK[0])",
   "id": "b0bd8fb44f6a93ad",
   "outputs": [
    {
     "data": {
      "text/plain": [
       "numpy.int64"
      ]
     },
     "execution_count": 13,
     "metadata": {},
     "output_type": "execute_result"
    }
   ],
   "execution_count": 13
  },
  {
   "metadata": {
    "ExecuteTime": {
     "end_time": "2024-06-20T14:29:14.835059Z",
     "start_time": "2024-06-20T14:29:14.826432Z"
    }
   },
   "cell_type": "code",
   "source": "df2['total_sqft'].unique()",
   "id": "1f525c7322f0204e",
   "outputs": [
    {
     "data": {
      "text/plain": [
       "array(['1056', '2600', '1440', ..., '1133 - 1384', '774', '4689'],\n",
       "      dtype=object)"
      ]
     },
     "execution_count": 14,
     "metadata": {},
     "output_type": "execute_result"
    }
   ],
   "execution_count": 14
  },
  {
   "metadata": {},
   "cell_type": "markdown",
   "source": "Here, we can again see the lack of consistency, where some values are singleton and some values are ranges. We will first separate the values which are float(singleton) and values which are not float",
   "id": "2c10edfd71e4508f"
  },
  {
   "metadata": {
    "ExecuteTime": {
     "end_time": "2024-06-20T14:29:14.863032Z",
     "start_time": "2024-06-20T14:29:14.840019Z"
    }
   },
   "cell_type": "code",
   "source": [
    "def is_float(value):\n",
    "    try:\n",
    "        float(value)\n",
    "    except:\n",
    "        return False\n",
    "    return True"
   ],
   "id": "d96378225603aaa4",
   "outputs": [],
   "execution_count": 15
  },
  {
   "metadata": {
    "ExecuteTime": {
     "end_time": "2024-06-20T14:29:14.891128Z",
     "start_time": "2024-06-20T14:29:14.865037Z"
    }
   },
   "cell_type": "code",
   "source": "df2[~df2['total_sqft'].apply(lambda x: is_float(x))]",
   "id": "a37a2e11f1b2171f",
   "outputs": [
    {
     "data": {
      "text/plain": [
       "                  area_type   availability            location   size  \\\n",
       "30     Super built-up  Area         19-Dec           Yelahanka  4 BHK   \n",
       "122    Super built-up  Area         18-Mar              Hebbal  4 BHK   \n",
       "137    Super built-up  Area         19-Mar  8th Phase JP Nagar  2 BHK   \n",
       "165    Super built-up  Area         18-Dec            Sarjapur  2 BHK   \n",
       "188    Super built-up  Area  Ready To Move            KR Puram  2 BHK   \n",
       "...                     ...            ...                 ...    ...   \n",
       "12975  Super built-up  Area         20-Aug          Whitefield  2 BHK   \n",
       "12990  Super built-up  Area         18-May      Talaghattapura  3 BHK   \n",
       "13059  Super built-up  Area  Ready To Move              Harlur  2 BHK   \n",
       "13265  Super built-up  Area         20-Sep               Hoodi  2 BHK   \n",
       "13299  Super built-up  Area         18-Dec          Whitefield  4 BHK   \n",
       "\n",
       "        total_sqft  bath  balcony    price  BHK  \n",
       "30     2100 - 2850   4.0      0.0  186.000    4  \n",
       "122    3067 - 8156   4.0      0.0  477.000    4  \n",
       "137    1042 - 1105   2.0      0.0   54.005    2  \n",
       "165    1145 - 1340   2.0      0.0   43.490    2  \n",
       "188    1015 - 1540   2.0      0.0   56.800    2  \n",
       "...            ...   ...      ...      ...  ...  \n",
       "12975   850 - 1060   2.0      0.0   38.190    2  \n",
       "12990  1804 - 2273   3.0      0.0  122.000    3  \n",
       "13059  1200 - 1470   2.0      0.0   72.760    2  \n",
       "13265  1133 - 1384   2.0      0.0   59.135    2  \n",
       "13299  2830 - 2882   5.0      0.0  154.500    4  \n",
       "\n",
       "[186 rows x 9 columns]"
      ],
      "text/html": [
       "<div>\n",
       "<style scoped>\n",
       "    .dataframe tbody tr th:only-of-type {\n",
       "        vertical-align: middle;\n",
       "    }\n",
       "\n",
       "    .dataframe tbody tr th {\n",
       "        vertical-align: top;\n",
       "    }\n",
       "\n",
       "    .dataframe thead th {\n",
       "        text-align: right;\n",
       "    }\n",
       "</style>\n",
       "<table border=\"1\" class=\"dataframe\">\n",
       "  <thead>\n",
       "    <tr style=\"text-align: right;\">\n",
       "      <th></th>\n",
       "      <th>area_type</th>\n",
       "      <th>availability</th>\n",
       "      <th>location</th>\n",
       "      <th>size</th>\n",
       "      <th>total_sqft</th>\n",
       "      <th>bath</th>\n",
       "      <th>balcony</th>\n",
       "      <th>price</th>\n",
       "      <th>BHK</th>\n",
       "    </tr>\n",
       "  </thead>\n",
       "  <tbody>\n",
       "    <tr>\n",
       "      <th>30</th>\n",
       "      <td>Super built-up  Area</td>\n",
       "      <td>19-Dec</td>\n",
       "      <td>Yelahanka</td>\n",
       "      <td>4 BHK</td>\n",
       "      <td>2100 - 2850</td>\n",
       "      <td>4.0</td>\n",
       "      <td>0.0</td>\n",
       "      <td>186.000</td>\n",
       "      <td>4</td>\n",
       "    </tr>\n",
       "    <tr>\n",
       "      <th>122</th>\n",
       "      <td>Super built-up  Area</td>\n",
       "      <td>18-Mar</td>\n",
       "      <td>Hebbal</td>\n",
       "      <td>4 BHK</td>\n",
       "      <td>3067 - 8156</td>\n",
       "      <td>4.0</td>\n",
       "      <td>0.0</td>\n",
       "      <td>477.000</td>\n",
       "      <td>4</td>\n",
       "    </tr>\n",
       "    <tr>\n",
       "      <th>137</th>\n",
       "      <td>Super built-up  Area</td>\n",
       "      <td>19-Mar</td>\n",
       "      <td>8th Phase JP Nagar</td>\n",
       "      <td>2 BHK</td>\n",
       "      <td>1042 - 1105</td>\n",
       "      <td>2.0</td>\n",
       "      <td>0.0</td>\n",
       "      <td>54.005</td>\n",
       "      <td>2</td>\n",
       "    </tr>\n",
       "    <tr>\n",
       "      <th>165</th>\n",
       "      <td>Super built-up  Area</td>\n",
       "      <td>18-Dec</td>\n",
       "      <td>Sarjapur</td>\n",
       "      <td>2 BHK</td>\n",
       "      <td>1145 - 1340</td>\n",
       "      <td>2.0</td>\n",
       "      <td>0.0</td>\n",
       "      <td>43.490</td>\n",
       "      <td>2</td>\n",
       "    </tr>\n",
       "    <tr>\n",
       "      <th>188</th>\n",
       "      <td>Super built-up  Area</td>\n",
       "      <td>Ready To Move</td>\n",
       "      <td>KR Puram</td>\n",
       "      <td>2 BHK</td>\n",
       "      <td>1015 - 1540</td>\n",
       "      <td>2.0</td>\n",
       "      <td>0.0</td>\n",
       "      <td>56.800</td>\n",
       "      <td>2</td>\n",
       "    </tr>\n",
       "    <tr>\n",
       "      <th>...</th>\n",
       "      <td>...</td>\n",
       "      <td>...</td>\n",
       "      <td>...</td>\n",
       "      <td>...</td>\n",
       "      <td>...</td>\n",
       "      <td>...</td>\n",
       "      <td>...</td>\n",
       "      <td>...</td>\n",
       "      <td>...</td>\n",
       "    </tr>\n",
       "    <tr>\n",
       "      <th>12975</th>\n",
       "      <td>Super built-up  Area</td>\n",
       "      <td>20-Aug</td>\n",
       "      <td>Whitefield</td>\n",
       "      <td>2 BHK</td>\n",
       "      <td>850 - 1060</td>\n",
       "      <td>2.0</td>\n",
       "      <td>0.0</td>\n",
       "      <td>38.190</td>\n",
       "      <td>2</td>\n",
       "    </tr>\n",
       "    <tr>\n",
       "      <th>12990</th>\n",
       "      <td>Super built-up  Area</td>\n",
       "      <td>18-May</td>\n",
       "      <td>Talaghattapura</td>\n",
       "      <td>3 BHK</td>\n",
       "      <td>1804 - 2273</td>\n",
       "      <td>3.0</td>\n",
       "      <td>0.0</td>\n",
       "      <td>122.000</td>\n",
       "      <td>3</td>\n",
       "    </tr>\n",
       "    <tr>\n",
       "      <th>13059</th>\n",
       "      <td>Super built-up  Area</td>\n",
       "      <td>Ready To Move</td>\n",
       "      <td>Harlur</td>\n",
       "      <td>2 BHK</td>\n",
       "      <td>1200 - 1470</td>\n",
       "      <td>2.0</td>\n",
       "      <td>0.0</td>\n",
       "      <td>72.760</td>\n",
       "      <td>2</td>\n",
       "    </tr>\n",
       "    <tr>\n",
       "      <th>13265</th>\n",
       "      <td>Super built-up  Area</td>\n",
       "      <td>20-Sep</td>\n",
       "      <td>Hoodi</td>\n",
       "      <td>2 BHK</td>\n",
       "      <td>1133 - 1384</td>\n",
       "      <td>2.0</td>\n",
       "      <td>0.0</td>\n",
       "      <td>59.135</td>\n",
       "      <td>2</td>\n",
       "    </tr>\n",
       "    <tr>\n",
       "      <th>13299</th>\n",
       "      <td>Super built-up  Area</td>\n",
       "      <td>18-Dec</td>\n",
       "      <td>Whitefield</td>\n",
       "      <td>4 BHK</td>\n",
       "      <td>2830 - 2882</td>\n",
       "      <td>5.0</td>\n",
       "      <td>0.0</td>\n",
       "      <td>154.500</td>\n",
       "      <td>4</td>\n",
       "    </tr>\n",
       "  </tbody>\n",
       "</table>\n",
       "<p>186 rows × 9 columns</p>\n",
       "</div>"
      ]
     },
     "execution_count": 16,
     "metadata": {},
     "output_type": "execute_result"
    }
   ],
   "execution_count": 16
  },
  {
   "metadata": {},
   "cell_type": "markdown",
   "source": "We can see that, besides range, there are still values which are inconsistent, we will ignore those and only handle ranges. We will take the average value of the upper and lower bounds",
   "id": "b2a4e5a0515d3e6c"
  },
  {
   "metadata": {
    "ExecuteTime": {
     "end_time": "2024-06-20T14:29:14.899358Z",
     "start_time": "2024-06-20T14:29:14.893133Z"
    }
   },
   "cell_type": "code",
   "source": [
    "def convert_to_float(value):\n",
    "    tokens = value.split('-')\n",
    "    if len(tokens) == 2:\n",
    "        return (float(tokens[0])+float(tokens[1]))/2\n",
    "    try:\n",
    "        return float(value)\n",
    "    except ValueError:\n",
    "        return None"
   ],
   "id": "6e93f3304a94f8a8",
   "outputs": [],
   "execution_count": 17
  },
  {
   "metadata": {
    "ExecuteTime": {
     "end_time": "2024-06-20T14:29:14.913211Z",
     "start_time": "2024-06-20T14:29:14.900412Z"
    }
   },
   "cell_type": "code",
   "source": "df2['total_sqft'] = df2['total_sqft'].apply(lambda x: convert_to_float(x))",
   "id": "f8dbc8e87e4cd5d7",
   "outputs": [],
   "execution_count": 18
  },
  {
   "metadata": {},
   "cell_type": "markdown",
   "source": "### **Feature Engineering**",
   "id": "6b146310397f0095"
  },
  {
   "metadata": {
    "ExecuteTime": {
     "end_time": "2024-06-20T14:29:15.674874Z",
     "start_time": "2024-06-20T14:29:15.667495Z"
    }
   },
   "cell_type": "code",
   "source": "df3 = df2.copy()",
   "id": "8bdc07f25183be5f",
   "outputs": [],
   "execution_count": 19
  },
  {
   "metadata": {},
   "cell_type": "markdown",
   "source": "In this section we will be adding some new columns, one of them is price_per_sqft, which as suggested by its name, is a price of a house per square feet",
   "id": "d3cf4883609de70d"
  },
  {
   "metadata": {
    "ExecuteTime": {
     "end_time": "2024-06-20T14:29:15.910109Z",
     "start_time": "2024-06-20T14:29:15.904686Z"
    }
   },
   "cell_type": "code",
   "source": "df3['price_per_sqft'] = (df3['price'] * 100000)/df3['total_sqft']",
   "id": "21e74e888f69290b",
   "outputs": [],
   "execution_count": 20
  },
  {
   "metadata": {
    "ExecuteTime": {
     "end_time": "2024-06-20T14:29:17.047792Z",
     "start_time": "2024-06-20T14:29:17.032901Z"
    }
   },
   "cell_type": "code",
   "source": "df3.head()",
   "id": "3edb18df57ae2b82",
   "outputs": [
    {
     "data": {
      "text/plain": [
       "              area_type   availability                  location       size  \\\n",
       "0  Super built-up  Area         19-Dec  Electronic City Phase II      2 BHK   \n",
       "1            Plot  Area  Ready To Move          Chikka Tirupathi  4 Bedroom   \n",
       "2        Built-up  Area  Ready To Move               Uttarahalli      3 BHK   \n",
       "3  Super built-up  Area  Ready To Move        Lingadheeranahalli      3 BHK   \n",
       "4  Super built-up  Area  Ready To Move                  Kothanur      2 BHK   \n",
       "\n",
       "   total_sqft  bath  balcony   price  BHK  price_per_sqft  \n",
       "0      1056.0   2.0      1.0   39.07    2     3699.810606  \n",
       "1      2600.0   5.0      3.0  120.00    4     4615.384615  \n",
       "2      1440.0   2.0      3.0   62.00    3     4305.555556  \n",
       "3      1521.0   3.0      1.0   95.00    3     6245.890861  \n",
       "4      1200.0   2.0      1.0   51.00    2     4250.000000  "
      ],
      "text/html": [
       "<div>\n",
       "<style scoped>\n",
       "    .dataframe tbody tr th:only-of-type {\n",
       "        vertical-align: middle;\n",
       "    }\n",
       "\n",
       "    .dataframe tbody tr th {\n",
       "        vertical-align: top;\n",
       "    }\n",
       "\n",
       "    .dataframe thead th {\n",
       "        text-align: right;\n",
       "    }\n",
       "</style>\n",
       "<table border=\"1\" class=\"dataframe\">\n",
       "  <thead>\n",
       "    <tr style=\"text-align: right;\">\n",
       "      <th></th>\n",
       "      <th>area_type</th>\n",
       "      <th>availability</th>\n",
       "      <th>location</th>\n",
       "      <th>size</th>\n",
       "      <th>total_sqft</th>\n",
       "      <th>bath</th>\n",
       "      <th>balcony</th>\n",
       "      <th>price</th>\n",
       "      <th>BHK</th>\n",
       "      <th>price_per_sqft</th>\n",
       "    </tr>\n",
       "  </thead>\n",
       "  <tbody>\n",
       "    <tr>\n",
       "      <th>0</th>\n",
       "      <td>Super built-up  Area</td>\n",
       "      <td>19-Dec</td>\n",
       "      <td>Electronic City Phase II</td>\n",
       "      <td>2 BHK</td>\n",
       "      <td>1056.0</td>\n",
       "      <td>2.0</td>\n",
       "      <td>1.0</td>\n",
       "      <td>39.07</td>\n",
       "      <td>2</td>\n",
       "      <td>3699.810606</td>\n",
       "    </tr>\n",
       "    <tr>\n",
       "      <th>1</th>\n",
       "      <td>Plot  Area</td>\n",
       "      <td>Ready To Move</td>\n",
       "      <td>Chikka Tirupathi</td>\n",
       "      <td>4 Bedroom</td>\n",
       "      <td>2600.0</td>\n",
       "      <td>5.0</td>\n",
       "      <td>3.0</td>\n",
       "      <td>120.00</td>\n",
       "      <td>4</td>\n",
       "      <td>4615.384615</td>\n",
       "    </tr>\n",
       "    <tr>\n",
       "      <th>2</th>\n",
       "      <td>Built-up  Area</td>\n",
       "      <td>Ready To Move</td>\n",
       "      <td>Uttarahalli</td>\n",
       "      <td>3 BHK</td>\n",
       "      <td>1440.0</td>\n",
       "      <td>2.0</td>\n",
       "      <td>3.0</td>\n",
       "      <td>62.00</td>\n",
       "      <td>3</td>\n",
       "      <td>4305.555556</td>\n",
       "    </tr>\n",
       "    <tr>\n",
       "      <th>3</th>\n",
       "      <td>Super built-up  Area</td>\n",
       "      <td>Ready To Move</td>\n",
       "      <td>Lingadheeranahalli</td>\n",
       "      <td>3 BHK</td>\n",
       "      <td>1521.0</td>\n",
       "      <td>3.0</td>\n",
       "      <td>1.0</td>\n",
       "      <td>95.00</td>\n",
       "      <td>3</td>\n",
       "      <td>6245.890861</td>\n",
       "    </tr>\n",
       "    <tr>\n",
       "      <th>4</th>\n",
       "      <td>Super built-up  Area</td>\n",
       "      <td>Ready To Move</td>\n",
       "      <td>Kothanur</td>\n",
       "      <td>2 BHK</td>\n",
       "      <td>1200.0</td>\n",
       "      <td>2.0</td>\n",
       "      <td>1.0</td>\n",
       "      <td>51.00</td>\n",
       "      <td>2</td>\n",
       "      <td>4250.000000</td>\n",
       "    </tr>\n",
       "  </tbody>\n",
       "</table>\n",
       "</div>"
      ]
     },
     "execution_count": 21,
     "metadata": {},
     "output_type": "execute_result"
    }
   ],
   "execution_count": 21
  },
  {
   "metadata": {},
   "cell_type": "markdown",
   "source": "",
   "id": "ace6ce50c4f8d9cc"
  },
  {
   "metadata": {
    "ExecuteTime": {
     "end_time": "2024-06-20T14:29:17.265387Z",
     "start_time": "2024-06-20T14:29:17.258210Z"
    }
   },
   "cell_type": "code",
   "source": "len(df3['location'].unique())",
   "id": "610c6094051a786e",
   "outputs": [
    {
     "data": {
      "text/plain": [
       "1265"
      ]
     },
     "execution_count": 22,
     "metadata": {},
     "output_type": "execute_result"
    }
   ],
   "execution_count": 22
  },
  {
   "metadata": {},
   "cell_type": "markdown",
   "source": "We can see that there are 1265 locations in the dataset. These many locations will be hard to manage as they are categorical variable and they need to be encoded. So we will refer some of the locations as others whose frequency is less than some threshold",
   "id": "cdc42fd553a0c8f2"
  },
  {
   "metadata": {
    "ExecuteTime": {
     "end_time": "2024-06-20T14:29:17.533134Z",
     "start_time": "2024-06-20T14:29:17.526654Z"
    }
   },
   "cell_type": "code",
   "source": "df3['location'] = df3['location'].apply(lambda x: x.strip())",
   "id": "9535f28812138fd5",
   "outputs": [],
   "execution_count": 23
  },
  {
   "metadata": {
    "ExecuteTime": {
     "end_time": "2024-06-20T14:29:17.585771Z",
     "start_time": "2024-06-20T14:29:17.574491Z"
    }
   },
   "cell_type": "code",
   "source": "location_freq = df3.groupby('location')['location'].value_counts().sort_values(ascending=False)",
   "id": "b264ea0fdc6791bc",
   "outputs": [],
   "execution_count": 24
  },
  {
   "metadata": {
    "ExecuteTime": {
     "end_time": "2024-06-20T14:29:17.683073Z",
     "start_time": "2024-06-20T14:29:17.676342Z"
    }
   },
   "cell_type": "code",
   "source": "location_freq",
   "id": "1161e38d479921a2",
   "outputs": [
    {
     "data": {
      "text/plain": [
       "location\n",
       "Whitefield              515\n",
       "Sarjapur  Road          372\n",
       "Electronic City         302\n",
       "Kanakpura Road          261\n",
       "Thanisandra             234\n",
       "                       ... \n",
       "Kanakapura  Rod           1\n",
       "Kanakapura Main Road      1\n",
       "Kanakapura Road           1\n",
       "Kanakapura Road,          1\n",
       "whitefiled                1\n",
       "Name: count, Length: 1254, dtype: int64"
      ]
     },
     "execution_count": 25,
     "metadata": {},
     "output_type": "execute_result"
    }
   ],
   "execution_count": 25
  },
  {
   "metadata": {
    "ExecuteTime": {
     "end_time": "2024-06-20T14:29:17.722277Z",
     "start_time": "2024-06-20T14:29:17.717086Z"
    }
   },
   "cell_type": "code",
   "source": "len(location_freq[location_freq <= 50])",
   "id": "5724b954618da825",
   "outputs": [
    {
     "data": {
      "text/plain": [
       "1205"
      ]
     },
     "execution_count": 26,
     "metadata": {},
     "output_type": "execute_result"
    }
   ],
   "execution_count": 26
  },
  {
   "metadata": {},
   "cell_type": "markdown",
   "source": "So, 50 seems like a pretty good threshold",
   "id": "45baba3afdd3b32"
  },
  {
   "metadata": {
    "ExecuteTime": {
     "end_time": "2024-06-20T14:29:17.777149Z",
     "start_time": "2024-06-20T14:29:17.772816Z"
    }
   },
   "cell_type": "code",
   "source": "other_location = location_freq[location_freq <= 50]",
   "id": "97376f80a2f1d0b8",
   "outputs": [],
   "execution_count": 27
  },
  {
   "metadata": {
    "ExecuteTime": {
     "end_time": "2024-06-20T14:29:17.836188Z",
     "start_time": "2024-06-20T14:29:17.815223Z"
    }
   },
   "cell_type": "code",
   "source": "df3['location'] = df3['location'].apply(lambda x: 'other' if x in other_location else x)",
   "id": "547a762eb7585001",
   "outputs": [],
   "execution_count": 28
  },
  {
   "metadata": {
    "ExecuteTime": {
     "end_time": "2024-06-20T14:29:17.927828Z",
     "start_time": "2024-06-20T14:29:17.922389Z"
    }
   },
   "cell_type": "code",
   "source": "df3.location",
   "id": "87c574f87387bbc2",
   "outputs": [
    {
     "data": {
      "text/plain": [
       "0        Electronic City Phase II\n",
       "1                           other\n",
       "2                     Uttarahalli\n",
       "3                           other\n",
       "4                        Kothanur\n",
       "                   ...           \n",
       "13314                       other\n",
       "13315                  Whitefield\n",
       "13317       Raja Rajeshwari Nagar\n",
       "13318                       other\n",
       "13319                       other\n",
       "Name: location, Length: 12710, dtype: object"
      ]
     },
     "execution_count": 29,
     "metadata": {},
     "output_type": "execute_result"
    }
   ],
   "execution_count": 29
  },
  {
   "metadata": {
    "ExecuteTime": {
     "end_time": "2024-06-20T14:29:17.992804Z",
     "start_time": "2024-06-20T14:29:17.986041Z"
    }
   },
   "cell_type": "code",
   "source": "len(df3['location'].unique())",
   "id": "ecf707cc27e089a1",
   "outputs": [
    {
     "data": {
      "text/plain": [
       "50"
      ]
     },
     "execution_count": 30,
     "metadata": {},
     "output_type": "execute_result"
    }
   ],
   "execution_count": 30
  },
  {
   "metadata": {},
   "cell_type": "markdown",
   "source": "### **Outlier Detection**",
   "id": "cf6100ead4699843"
  },
  {
   "metadata": {},
   "cell_type": "markdown",
   "source": "Firstly, we will remove the outliers based on 'square feet per room' metric. Typically, in any house, the number of sq ft per room is 300 at the very least. So, if there are homes that have less sq ft per room, than they are anomaly and we should remove them.",
   "id": "5c598367f18d1153"
  },
  {
   "metadata": {
    "ExecuteTime": {
     "end_time": "2024-06-20T14:29:18.111004Z",
     "start_time": "2024-06-20T14:29:18.096715Z"
    }
   },
   "cell_type": "code",
   "source": "df3[df3['total_sqft']/df3['BHK'] < 300]",
   "id": "86ca92cad947a17e",
   "outputs": [
    {
     "data": {
      "text/plain": [
       "            area_type   availability          location       size  total_sqft  \\\n",
       "58         Plot  Area  Ready To Move             other  6 Bedroom      1407.0   \n",
       "68         Plot  Area  Ready To Move             other  8 Bedroom      1350.0   \n",
       "70         Plot  Area  Ready To Move             other  3 Bedroom       500.0   \n",
       "78     Built-up  Area  Ready To Move             other      2 BHK       460.0   \n",
       "89         Plot  Area  Ready To Move      Rajaji Nagar  6 Bedroom       710.0   \n",
       "...               ...            ...               ...        ...         ...   \n",
       "13219      Plot  Area  Ready To Move             other  7 Bedroom      1590.0   \n",
       "13221      Plot  Area  Ready To Move             other  9 Bedroom      1178.0   \n",
       "13281      Plot  Area  Ready To Move             other  5 Bedroom      1375.0   \n",
       "13303      Plot  Area  Ready To Move             other  5 Bedroom       774.0   \n",
       "13311      Plot  Area  Ready To Move  Ramamurthy Nagar  7 Bedroom      1500.0   \n",
       "\n",
       "       bath  balcony  price  BHK  price_per_sqft  \n",
       "58      4.0      1.0  150.0    6    10660.980810  \n",
       "68      7.0      0.0   85.0    8     6296.296296  \n",
       "70      3.0      2.0  100.0    3    20000.000000  \n",
       "78      1.0      0.0   22.0    2     4782.608696  \n",
       "89      6.0      3.0  160.0    6    22535.211268  \n",
       "...     ...      ...    ...  ...             ...  \n",
       "13219   9.0      3.0  132.0    7     8301.886792  \n",
       "13221   9.0      1.0   75.0    9     6366.723260  \n",
       "13281   5.0      1.0  125.0    5     9090.909091  \n",
       "13303   5.0      3.0   70.0    5     9043.927649  \n",
       "13311   9.0      2.0  250.0    7    16666.666667  \n",
       "\n",
       "[655 rows x 10 columns]"
      ],
      "text/html": [
       "<div>\n",
       "<style scoped>\n",
       "    .dataframe tbody tr th:only-of-type {\n",
       "        vertical-align: middle;\n",
       "    }\n",
       "\n",
       "    .dataframe tbody tr th {\n",
       "        vertical-align: top;\n",
       "    }\n",
       "\n",
       "    .dataframe thead th {\n",
       "        text-align: right;\n",
       "    }\n",
       "</style>\n",
       "<table border=\"1\" class=\"dataframe\">\n",
       "  <thead>\n",
       "    <tr style=\"text-align: right;\">\n",
       "      <th></th>\n",
       "      <th>area_type</th>\n",
       "      <th>availability</th>\n",
       "      <th>location</th>\n",
       "      <th>size</th>\n",
       "      <th>total_sqft</th>\n",
       "      <th>bath</th>\n",
       "      <th>balcony</th>\n",
       "      <th>price</th>\n",
       "      <th>BHK</th>\n",
       "      <th>price_per_sqft</th>\n",
       "    </tr>\n",
       "  </thead>\n",
       "  <tbody>\n",
       "    <tr>\n",
       "      <th>58</th>\n",
       "      <td>Plot  Area</td>\n",
       "      <td>Ready To Move</td>\n",
       "      <td>other</td>\n",
       "      <td>6 Bedroom</td>\n",
       "      <td>1407.0</td>\n",
       "      <td>4.0</td>\n",
       "      <td>1.0</td>\n",
       "      <td>150.0</td>\n",
       "      <td>6</td>\n",
       "      <td>10660.980810</td>\n",
       "    </tr>\n",
       "    <tr>\n",
       "      <th>68</th>\n",
       "      <td>Plot  Area</td>\n",
       "      <td>Ready To Move</td>\n",
       "      <td>other</td>\n",
       "      <td>8 Bedroom</td>\n",
       "      <td>1350.0</td>\n",
       "      <td>7.0</td>\n",
       "      <td>0.0</td>\n",
       "      <td>85.0</td>\n",
       "      <td>8</td>\n",
       "      <td>6296.296296</td>\n",
       "    </tr>\n",
       "    <tr>\n",
       "      <th>70</th>\n",
       "      <td>Plot  Area</td>\n",
       "      <td>Ready To Move</td>\n",
       "      <td>other</td>\n",
       "      <td>3 Bedroom</td>\n",
       "      <td>500.0</td>\n",
       "      <td>3.0</td>\n",
       "      <td>2.0</td>\n",
       "      <td>100.0</td>\n",
       "      <td>3</td>\n",
       "      <td>20000.000000</td>\n",
       "    </tr>\n",
       "    <tr>\n",
       "      <th>78</th>\n",
       "      <td>Built-up  Area</td>\n",
       "      <td>Ready To Move</td>\n",
       "      <td>other</td>\n",
       "      <td>2 BHK</td>\n",
       "      <td>460.0</td>\n",
       "      <td>1.0</td>\n",
       "      <td>0.0</td>\n",
       "      <td>22.0</td>\n",
       "      <td>2</td>\n",
       "      <td>4782.608696</td>\n",
       "    </tr>\n",
       "    <tr>\n",
       "      <th>89</th>\n",
       "      <td>Plot  Area</td>\n",
       "      <td>Ready To Move</td>\n",
       "      <td>Rajaji Nagar</td>\n",
       "      <td>6 Bedroom</td>\n",
       "      <td>710.0</td>\n",
       "      <td>6.0</td>\n",
       "      <td>3.0</td>\n",
       "      <td>160.0</td>\n",
       "      <td>6</td>\n",
       "      <td>22535.211268</td>\n",
       "    </tr>\n",
       "    <tr>\n",
       "      <th>...</th>\n",
       "      <td>...</td>\n",
       "      <td>...</td>\n",
       "      <td>...</td>\n",
       "      <td>...</td>\n",
       "      <td>...</td>\n",
       "      <td>...</td>\n",
       "      <td>...</td>\n",
       "      <td>...</td>\n",
       "      <td>...</td>\n",
       "      <td>...</td>\n",
       "    </tr>\n",
       "    <tr>\n",
       "      <th>13219</th>\n",
       "      <td>Plot  Area</td>\n",
       "      <td>Ready To Move</td>\n",
       "      <td>other</td>\n",
       "      <td>7 Bedroom</td>\n",
       "      <td>1590.0</td>\n",
       "      <td>9.0</td>\n",
       "      <td>3.0</td>\n",
       "      <td>132.0</td>\n",
       "      <td>7</td>\n",
       "      <td>8301.886792</td>\n",
       "    </tr>\n",
       "    <tr>\n",
       "      <th>13221</th>\n",
       "      <td>Plot  Area</td>\n",
       "      <td>Ready To Move</td>\n",
       "      <td>other</td>\n",
       "      <td>9 Bedroom</td>\n",
       "      <td>1178.0</td>\n",
       "      <td>9.0</td>\n",
       "      <td>1.0</td>\n",
       "      <td>75.0</td>\n",
       "      <td>9</td>\n",
       "      <td>6366.723260</td>\n",
       "    </tr>\n",
       "    <tr>\n",
       "      <th>13281</th>\n",
       "      <td>Plot  Area</td>\n",
       "      <td>Ready To Move</td>\n",
       "      <td>other</td>\n",
       "      <td>5 Bedroom</td>\n",
       "      <td>1375.0</td>\n",
       "      <td>5.0</td>\n",
       "      <td>1.0</td>\n",
       "      <td>125.0</td>\n",
       "      <td>5</td>\n",
       "      <td>9090.909091</td>\n",
       "    </tr>\n",
       "    <tr>\n",
       "      <th>13303</th>\n",
       "      <td>Plot  Area</td>\n",
       "      <td>Ready To Move</td>\n",
       "      <td>other</td>\n",
       "      <td>5 Bedroom</td>\n",
       "      <td>774.0</td>\n",
       "      <td>5.0</td>\n",
       "      <td>3.0</td>\n",
       "      <td>70.0</td>\n",
       "      <td>5</td>\n",
       "      <td>9043.927649</td>\n",
       "    </tr>\n",
       "    <tr>\n",
       "      <th>13311</th>\n",
       "      <td>Plot  Area</td>\n",
       "      <td>Ready To Move</td>\n",
       "      <td>Ramamurthy Nagar</td>\n",
       "      <td>7 Bedroom</td>\n",
       "      <td>1500.0</td>\n",
       "      <td>9.0</td>\n",
       "      <td>2.0</td>\n",
       "      <td>250.0</td>\n",
       "      <td>7</td>\n",
       "      <td>16666.666667</td>\n",
       "    </tr>\n",
       "  </tbody>\n",
       "</table>\n",
       "<p>655 rows × 10 columns</p>\n",
       "</div>"
      ]
     },
     "execution_count": 31,
     "metadata": {},
     "output_type": "execute_result"
    }
   ],
   "execution_count": 31
  },
  {
   "metadata": {
    "ExecuteTime": {
     "end_time": "2024-06-20T14:29:18.150993Z",
     "start_time": "2024-06-20T14:29:18.145066Z"
    }
   },
   "cell_type": "code",
   "source": "df3.shape",
   "id": "7ef0ed02616b2007",
   "outputs": [
    {
     "data": {
      "text/plain": [
       "(12710, 10)"
      ]
     },
     "execution_count": 32,
     "metadata": {},
     "output_type": "execute_result"
    }
   ],
   "execution_count": 32
  },
  {
   "metadata": {
    "ExecuteTime": {
     "end_time": "2024-06-20T14:29:18.259979Z",
     "start_time": "2024-06-20T14:29:18.252744Z"
    }
   },
   "cell_type": "code",
   "source": "df4 = df3[~(df3['total_sqft']/df3['BHK'] < 300)]",
   "id": "d92105fb6177b0c2",
   "outputs": [],
   "execution_count": 33
  },
  {
   "metadata": {
    "ExecuteTime": {
     "end_time": "2024-06-20T14:29:18.306721Z",
     "start_time": "2024-06-20T14:29:18.301487Z"
    }
   },
   "cell_type": "code",
   "source": "df4.shape",
   "id": "e19ac177cbf5cd18",
   "outputs": [
    {
     "data": {
      "text/plain": [
       "(12055, 10)"
      ]
     },
     "execution_count": 34,
     "metadata": {},
     "output_type": "execute_result"
    }
   ],
   "execution_count": 34
  },
  {
   "metadata": {},
   "cell_type": "markdown",
   "source": "Now we will remove the outliers based on 'price_per_sqft' column. We will remove the data for which the 'price_per_sqft' lies outside the 2 standard deviation of the distribution of the same.",
   "id": "c259f84e23274d90"
  },
  {
   "metadata": {
    "ExecuteTime": {
     "end_time": "2024-06-20T14:29:18.405376Z",
     "start_time": "2024-06-20T14:29:18.400856Z"
    }
   },
   "cell_type": "code",
   "source": [
    "def remove_pp_outliers(df: pd.DataFrame):\n",
    "    df_out = pd.DataFrame()\n",
    "    for key, subdf in df.groupby('location'):\n",
    "        m = np.mean(subdf.price_per_sqft)\n",
    "        std = np.std(subdf.price_per_sqft)\n",
    "        reduced_df = subdf[(subdf['price_per_sqft'] > (m-std)) & (subdf['price_per_sqft'] <= (m+std))]\n",
    "        df_out = pd.concat([df_out, reduced_df], ignore_index=True)\n",
    "    return df_out"
   ],
   "id": "b9688afc21f08691",
   "outputs": [],
   "execution_count": 35
  },
  {
   "metadata": {
    "ExecuteTime": {
     "end_time": "2024-06-20T14:29:18.494953Z",
     "start_time": "2024-06-20T14:29:18.437391Z"
    }
   },
   "cell_type": "code",
   "source": "df5 = remove_pp_outliers(df4)",
   "id": "d57377f9f96ad774",
   "outputs": [],
   "execution_count": 36
  },
  {
   "metadata": {
    "ExecuteTime": {
     "end_time": "2024-06-20T14:29:18.572962Z",
     "start_time": "2024-06-20T14:29:18.568370Z"
    }
   },
   "cell_type": "code",
   "source": "df5.shape",
   "id": "29e82c3489d4b19c",
   "outputs": [
    {
     "data": {
      "text/plain": [
       "(10347, 10)"
      ]
     },
     "execution_count": 37,
     "metadata": {},
     "output_type": "execute_result"
    }
   ],
   "execution_count": 37
  },
  {
   "metadata": {
    "ExecuteTime": {
     "end_time": "2024-06-20T14:29:19.144804Z",
     "start_time": "2024-06-20T14:29:18.670941Z"
    }
   },
   "cell_type": "code",
   "source": [
    "def plot_scatter_chart(df,location):\n",
    "    bhk2 = df[(df.location==location) & (df.BHK==2)]\n",
    "    bhk3 = df[(df.location==location) & (df.BHK==3)]\n",
    "    plt.rcParams['figure.figsize'] = (15,7)\n",
    "    plt.scatter(bhk2.total_sqft,bhk2.price,color='blue',label='2 BHK', s=50)\n",
    "    plt.scatter(bhk3.total_sqft,bhk3.price,marker='+', color='green',label='3 BHK', s=50)\n",
    "    plt.xlabel(\"Total Square Feet Area\")\n",
    "    plt.ylabel(\"Price (Lakh Indian Rupees)\")\n",
    "    plt.title(location)\n",
    "    plt.legend()\n",
    "    \n",
    "plot_scatter_chart(df5,\"Rajaji Nagar\")"
   ],
   "id": "b8d10fb924f8e9ed",
   "outputs": [
    {
     "data": {
      "text/plain": [
       "<Figure size 1500x700 with 1 Axes>"
      ],
      "image/png": "[encoded data removed]"
     },
     "metadata": {},
     "output_type": "display_data"
    }
   ],
   "execution_count": 38
  },
  {
   "metadata": {},
   "cell_type": "markdown",
   "source": "We can see from the graph that some of the 2BHK houses are costlier than the 3BHK ones in the same area. This can be due to many reasons, such as amenities or structure of the house, which are outside the scope of this dataset. So we will remove these irregularities.",
   "id": "cb1e0a82d252704a"
  },
  {
   "metadata": {},
   "cell_type": "markdown",
   "source": [
    "We should also remove properties where for same location, the price of (for example) 3 bedrooms apartment is less than 2 bedrooms apartment (with same square ft area). What we will do is for a given location, we will build a dictionary of stats per bhk, i.e.\n",
    "\n",
    "    {\n",
    "    '1' : {\n",
    "        'mean': 4000,\n",
    "        'std: 2000,\n",
    "        'count': 34\n",
    "    },\n",
    "    '2' : {\n",
    "        'mean': 4300,\n",
    "        'std: 2300,\n",
    "        'count': 22\n",
    "    },   \n",
    "    }\n",
    "Now we can remove those 2 BHK apartments whose price_per_sqft is less than mean price_per_sqft of 1 BHK apartment"
   ],
   "id": "d36ed13383792c2c"
  },
  {
   "metadata": {
    "ExecuteTime": {
     "end_time": "2024-06-20T14:29:19.324853Z",
     "start_time": "2024-06-20T14:29:19.152814Z"
    }
   },
   "cell_type": "code",
   "source": [
    "def remove_bhk_outliers(df):\n",
    "    exclude_indices = np.array([])\n",
    "    for location, location_df in df.groupby('location'):\n",
    "        bhk_stats = {}\n",
    "        for bhk, bhk_df in location_df.groupby('BHK'):\n",
    "            bhk_stats[bhk] = {\n",
    "                'mean': np.mean(bhk_df.price_per_sqft),\n",
    "                'std': np.std(bhk_df.price_per_sqft),\n",
    "                'count': bhk_df.shape[0]\n",
    "            }\n",
    "        for bhk, bhk_df in location_df.groupby('BHK'):\n",
    "            stats = bhk_stats.get(bhk-1)\n",
    "            if stats and stats['count']>5:\n",
    "                exclude_indices = np.append(exclude_indices, bhk_df[bhk_df.price_per_sqft<(stats['mean'])].index.values)\n",
    "    return df.drop(exclude_indices,axis='index')\n",
    "df6 = remove_bhk_outliers(df5)\n",
    "df6.shape"
   ],
   "id": "ebbacb4a9d0e6991",
   "outputs": [
    {
     "data": {
      "text/plain": [
       "(6214, 10)"
      ]
     },
     "execution_count": 39,
     "metadata": {},
     "output_type": "execute_result"
    }
   ],
   "execution_count": 39
  },
  {
   "metadata": {
    "ExecuteTime": {
     "end_time": "2024-06-20T14:29:19.597425Z",
     "start_time": "2024-06-20T14:29:19.333234Z"
    }
   },
   "cell_type": "code",
   "source": "plot_scatter_chart(df6,\"Rajaji Nagar\")",
   "id": "8e337835b1c7d8e9",
   "outputs": [
    {
     "data": {
      "text/plain": [
       "<Figure size 1500x700 with 1 Axes>"
      ],
      "image/png": "[encoded data removed]"
     },
     "metadata": {},
     "output_type": "display_data"
    }
   ],
   "execution_count": 40
  },
  {
   "metadata": {},
   "cell_type": "markdown",
   "source": "We can see that the previous irregularities are not present anymore",
   "id": "cfd99397a5e38970"
  },
  {
   "metadata": {},
   "cell_type": "markdown",
   "source": "Now we will remove the outliers using no of bathrooms",
   "id": "2de381ef1d5bbdc"
  },
  {
   "metadata": {
    "ExecuteTime": {
     "end_time": "2024-06-20T14:29:19.606030Z",
     "start_time": "2024-06-20T14:29:19.599434Z"
    }
   },
   "cell_type": "code",
   "source": "df6['bath'].unique()",
   "id": "39a86cbaff155d0f",
   "outputs": [
    {
     "data": {
      "text/plain": [
       "array([ 2.,  3.,  4.,  1.,  5.,  6.,  9.,  7.,  8., 13., 10.])"
      ]
     },
     "execution_count": 41,
     "metadata": {},
     "output_type": "execute_result"
    }
   ],
   "execution_count": 41
  },
  {
   "metadata": {
    "ExecuteTime": {
     "end_time": "2024-06-20T14:29:19.617923Z",
     "start_time": "2024-06-20T14:29:19.607036Z"
    }
   },
   "cell_type": "code",
   "source": "df6[df6['bath']>=10]",
   "id": "ebbe61b93077b354",
   "outputs": [
    {
     "data": {
      "text/plain": [
       "                 area_type   availability location        size  total_sqft  \\\n",
       "8841  Super built-up  Area  Ready To Move    other      13 BHK      5425.0   \n",
       "9372        Built-up  Area  Ready To Move    other  10 Bedroom      7200.0   \n",
       "\n",
       "      bath  balcony  price  BHK  price_per_sqft  \n",
       "8841  13.0      0.0  275.0   13     5069.124424  \n",
       "9372  10.0      3.0  200.0   10     2777.777778  "
      ],
      "text/html": [
       "<div>\n",
       "<style scoped>\n",
       "    .dataframe tbody tr th:only-of-type {\n",
       "        vertical-align: middle;\n",
       "    }\n",
       "\n",
       "    .dataframe tbody tr th {\n",
       "        vertical-align: top;\n",
       "    }\n",
       "\n",
       "    .dataframe thead th {\n",
       "        text-align: right;\n",
       "    }\n",
       "</style>\n",
       "<table border=\"1\" class=\"dataframe\">\n",
       "  <thead>\n",
       "    <tr style=\"text-align: right;\">\n",
       "      <th></th>\n",
       "      <th>area_type</th>\n",
       "      <th>availability</th>\n",
       "      <th>location</th>\n",
       "      <th>size</th>\n",
       "      <th>total_sqft</th>\n",
       "      <th>bath</th>\n",
       "      <th>balcony</th>\n",
       "      <th>price</th>\n",
       "      <th>BHK</th>\n",
       "      <th>price_per_sqft</th>\n",
       "    </tr>\n",
       "  </thead>\n",
       "  <tbody>\n",
       "    <tr>\n",
       "      <th>8841</th>\n",
       "      <td>Super built-up  Area</td>\n",
       "      <td>Ready To Move</td>\n",
       "      <td>other</td>\n",
       "      <td>13 BHK</td>\n",
       "      <td>5425.0</td>\n",
       "      <td>13.0</td>\n",
       "      <td>0.0</td>\n",
       "      <td>275.0</td>\n",
       "      <td>13</td>\n",
       "      <td>5069.124424</td>\n",
       "    </tr>\n",
       "    <tr>\n",
       "      <th>9372</th>\n",
       "      <td>Built-up  Area</td>\n",
       "      <td>Ready To Move</td>\n",
       "      <td>other</td>\n",
       "      <td>10 Bedroom</td>\n",
       "      <td>7200.0</td>\n",
       "      <td>10.0</td>\n",
       "      <td>3.0</td>\n",
       "      <td>200.0</td>\n",
       "      <td>10</td>\n",
       "      <td>2777.777778</td>\n",
       "    </tr>\n",
       "  </tbody>\n",
       "</table>\n",
       "</div>"
      ]
     },
     "execution_count": 42,
     "metadata": {},
     "output_type": "execute_result"
    }
   ],
   "execution_count": 42
  },
  {
   "metadata": {},
   "cell_type": "markdown",
   "source": "As a general rule of thumb we can remember that the number of bathrooms should be less than or equal to 'no. of rooms'+2",
   "id": "b4b6b1954e939389"
  },
  {
   "metadata": {
    "ExecuteTime": {
     "end_time": "2024-06-20T14:29:19.627234Z",
     "start_time": "2024-06-20T14:29:19.619934Z"
    }
   },
   "cell_type": "code",
   "source": [
    "df7 = df6[df6['bath']< df6['BHK']+2]\n",
    "df7.shape"
   ],
   "id": "8f2d93974e51dfd4",
   "outputs": [
    {
     "data": {
      "text/plain": [
       "(6158, 10)"
      ]
     },
     "execution_count": 43,
     "metadata": {},
     "output_type": "execute_result"
    }
   ],
   "execution_count": 43
  },
  {
   "metadata": {
    "ExecuteTime": {
     "end_time": "2024-06-20T14:29:19.640767Z",
     "start_time": "2024-06-20T14:29:19.628244Z"
    }
   },
   "cell_type": "code",
   "source": "df7.head()",
   "id": "8c14f42e05607a7c",
   "outputs": [
    {
     "data": {
      "text/plain": [
       "              area_type   availability            location   size  total_sqft  \\\n",
       "0        Built-up  Area  Ready To Move  7th Phase JP Nagar  2 BHK      1080.0   \n",
       "1  Super built-up  Area  Ready To Move  7th Phase JP Nagar  2 BHK      1270.0   \n",
       "2        Built-up  Area  Ready To Move  7th Phase JP Nagar  3 BHK      1420.0   \n",
       "3        Built-up  Area  Ready To Move  7th Phase JP Nagar  3 BHK      1850.0   \n",
       "4        Built-up  Area  Ready To Move  7th Phase JP Nagar  2 BHK      1245.0   \n",
       "\n",
       "   bath  balcony  price  BHK  price_per_sqft  \n",
       "0   2.0      2.0   72.0    2     6666.666667  \n",
       "1   2.0      2.0   93.0    2     7322.834646  \n",
       "2   2.0      1.0  100.0    3     7042.253521  \n",
       "3   3.0      1.0  150.0    3     8108.108108  \n",
       "4   2.0      1.0   94.0    2     7550.200803  "
      ],
      "text/html": [
       "<div>\n",
       "<style scoped>\n",
       "    .dataframe tbody tr th:only-of-type {\n",
       "        vertical-align: middle;\n",
       "    }\n",
       "\n",
       "    .dataframe tbody tr th {\n",
       "        vertical-align: top;\n",
       "    }\n",
       "\n",
       "    .dataframe thead th {\n",
       "        text-align: right;\n",
       "    }\n",
       "</style>\n",
       "<table border=\"1\" class=\"dataframe\">\n",
       "  <thead>\n",
       "    <tr style=\"text-align: right;\">\n",
       "      <th></th>\n",
       "      <th>area_type</th>\n",
       "      <th>availability</th>\n",
       "      <th>location</th>\n",
       "      <th>size</th>\n",
       "      <th>total_sqft</th>\n",
       "      <th>bath</th>\n",
       "      <th>balcony</th>\n",
       "      <th>price</th>\n",
       "      <th>BHK</th>\n",
       "      <th>price_per_sqft</th>\n",
       "    </tr>\n",
       "  </thead>\n",
       "  <tbody>\n",
       "    <tr>\n",
       "      <th>0</th>\n",
       "      <td>Built-up  Area</td>\n",
       "      <td>Ready To Move</td>\n",
       "      <td>7th Phase JP Nagar</td>\n",
       "      <td>2 BHK</td>\n",
       "      <td>1080.0</td>\n",
       "      <td>2.0</td>\n",
       "      <td>2.0</td>\n",
       "      <td>72.0</td>\n",
       "      <td>2</td>\n",
       "      <td>6666.666667</td>\n",
       "    </tr>\n",
       "    <tr>\n",
       "      <th>1</th>\n",
       "      <td>Super built-up  Area</td>\n",
       "      <td>Ready To Move</td>\n",
       "      <td>7th Phase JP Nagar</td>\n",
       "      <td>2 BHK</td>\n",
       "      <td>1270.0</td>\n",
       "      <td>2.0</td>\n",
       "      <td>2.0</td>\n",
       "      <td>93.0</td>\n",
       "      <td>2</td>\n",
       "      <td>7322.834646</td>\n",
       "    </tr>\n",
       "    <tr>\n",
       "      <th>2</th>\n",
       "      <td>Built-up  Area</td>\n",
       "      <td>Ready To Move</td>\n",
       "      <td>7th Phase JP Nagar</td>\n",
       "      <td>3 BHK</td>\n",
       "      <td>1420.0</td>\n",
       "      <td>2.0</td>\n",
       "      <td>1.0</td>\n",
       "      <td>100.0</td>\n",
       "      <td>3</td>\n",
       "      <td>7042.253521</td>\n",
       "    </tr>\n",
       "    <tr>\n",
       "      <th>3</th>\n",
       "      <td>Built-up  Area</td>\n",
       "      <td>Ready To Move</td>\n",
       "      <td>7th Phase JP Nagar</td>\n",
       "      <td>3 BHK</td>\n",
       "      <td>1850.0</td>\n",
       "      <td>3.0</td>\n",
       "      <td>1.0</td>\n",
       "      <td>150.0</td>\n",
       "      <td>3</td>\n",
       "      <td>8108.108108</td>\n",
       "    </tr>\n",
       "    <tr>\n",
       "      <th>4</th>\n",
       "      <td>Built-up  Area</td>\n",
       "      <td>Ready To Move</td>\n",
       "      <td>7th Phase JP Nagar</td>\n",
       "      <td>2 BHK</td>\n",
       "      <td>1245.0</td>\n",
       "      <td>2.0</td>\n",
       "      <td>1.0</td>\n",
       "      <td>94.0</td>\n",
       "      <td>2</td>\n",
       "      <td>7550.200803</td>\n",
       "    </tr>\n",
       "  </tbody>\n",
       "</table>\n",
       "</div>"
      ]
     },
     "execution_count": 44,
     "metadata": {},
     "output_type": "execute_result"
    }
   ],
   "execution_count": 44
  },
  {
   "metadata": {},
   "cell_type": "markdown",
   "source": "# **Dropping irrelevant columns**",
   "id": "44aa56ef3b515a81"
  },
  {
   "metadata": {
    "ExecuteTime": {
     "end_time": "2024-06-20T14:29:19.648975Z",
     "start_time": "2024-06-20T14:29:19.641777Z"
    }
   },
   "cell_type": "code",
   "source": "df8 = df7.drop(['size', 'price_per_sqft','availability'], axis=1)",
   "id": "9a392e1f1c61636d",
   "outputs": [],
   "execution_count": 45
  },
  {
   "metadata": {},
   "cell_type": "markdown",
   "source": "Now we have our final DataFrame on which we can further work our way through",
   "id": "a3a05bdaa156db5e"
  },
  {
   "metadata": {
    "ExecuteTime": {
     "end_time": "2024-06-20T14:29:19.663663Z",
     "start_time": "2024-06-20T14:29:19.650416Z"
    }
   },
   "cell_type": "code",
   "source": "df8.head()",
   "id": "7edbbf102e90215f",
   "outputs": [
    {
     "data": {
      "text/plain": [
       "              area_type            location  total_sqft  bath  balcony  price  \\\n",
       "0        Built-up  Area  7th Phase JP Nagar      1080.0   2.0      2.0   72.0   \n",
       "1  Super built-up  Area  7th Phase JP Nagar      1270.0   2.0      2.0   93.0   \n",
       "2        Built-up  Area  7th Phase JP Nagar      1420.0   2.0      1.0  100.0   \n",
       "3        Built-up  Area  7th Phase JP Nagar      1850.0   3.0      1.0  150.0   \n",
       "4        Built-up  Area  7th Phase JP Nagar      1245.0   2.0      1.0   94.0   \n",
       "\n",
       "   BHK  \n",
       "0    2  \n",
       "1    2  \n",
       "2    3  \n",
       "3    3  \n",
       "4    2  "
      ],
      "text/html": [
       "<div>\n",
       "<style scoped>\n",
       "    .dataframe tbody tr th:only-of-type {\n",
       "        vertical-align: middle;\n",
       "    }\n",
       "\n",
       "    .dataframe tbody tr th {\n",
       "        vertical-align: top;\n",
       "    }\n",
       "\n",
       "    .dataframe thead th {\n",
       "        text-align: right;\n",
       "    }\n",
       "</style>\n",
       "<table border=\"1\" class=\"dataframe\">\n",
       "  <thead>\n",
       "    <tr style=\"text-align: right;\">\n",
       "      <th></th>\n",
       "      <th>area_type</th>\n",
       "      <th>location</th>\n",
       "      <th>total_sqft</th>\n",
       "      <th>bath</th>\n",
       "      <th>balcony</th>\n",
       "      <th>price</th>\n",
       "      <th>BHK</th>\n",
       "    </tr>\n",
       "  </thead>\n",
       "  <tbody>\n",
       "    <tr>\n",
       "      <th>0</th>\n",
       "      <td>Built-up  Area</td>\n",
       "      <td>7th Phase JP Nagar</td>\n",
       "      <td>1080.0</td>\n",
       "      <td>2.0</td>\n",
       "      <td>2.0</td>\n",
       "      <td>72.0</td>\n",
       "      <td>2</td>\n",
       "    </tr>\n",
       "    <tr>\n",
       "      <th>1</th>\n",
       "      <td>Super built-up  Area</td>\n",
       "      <td>7th Phase JP Nagar</td>\n",
       "      <td>1270.0</td>\n",
       "      <td>2.0</td>\n",
       "      <td>2.0</td>\n",
       "      <td>93.0</td>\n",
       "      <td>2</td>\n",
       "    </tr>\n",
       "    <tr>\n",
       "      <th>2</th>\n",
       "      <td>Built-up  Area</td>\n",
       "      <td>7th Phase JP Nagar</td>\n",
       "      <td>1420.0</td>\n",
       "      <td>2.0</td>\n",
       "      <td>1.0</td>\n",
       "      <td>100.0</td>\n",
       "      <td>3</td>\n",
       "    </tr>\n",
       "    <tr>\n",
       "      <th>3</th>\n",
       "      <td>Built-up  Area</td>\n",
       "      <td>7th Phase JP Nagar</td>\n",
       "      <td>1850.0</td>\n",
       "      <td>3.0</td>\n",
       "      <td>1.0</td>\n",
       "      <td>150.0</td>\n",
       "      <td>3</td>\n",
       "    </tr>\n",
       "    <tr>\n",
       "      <th>4</th>\n",
       "      <td>Built-up  Area</td>\n",
       "      <td>7th Phase JP Nagar</td>\n",
       "      <td>1245.0</td>\n",
       "      <td>2.0</td>\n",
       "      <td>1.0</td>\n",
       "      <td>94.0</td>\n",
       "      <td>2</td>\n",
       "    </tr>\n",
       "  </tbody>\n",
       "</table>\n",
       "</div>"
      ]
     },
     "execution_count": 46,
     "metadata": {},
     "output_type": "execute_result"
    }
   ],
   "execution_count": 46
  },
  {
   "metadata": {},
   "cell_type": "markdown",
   "source": "### **Dividing the dataset into Independent and Dependent variables**",
   "id": "85b552f6525e3d2"
  },
  {
   "metadata": {
    "ExecuteTime": {
     "end_time": "2024-06-20T14:29:19.673139Z",
     "start_time": "2024-06-20T14:29:19.665672Z"
    }
   },
   "cell_type": "code",
   "source": [
    "X = df8.drop('price', axis=1).values\n",
    "y = df8['price'].values"
   ],
   "id": "9dd81cc5e3ac5508",
   "outputs": [],
   "execution_count": 47
  },
  {
   "metadata": {
    "ExecuteTime": {
     "end_time": "2024-06-20T14:29:19.682113Z",
     "start_time": "2024-06-20T14:29:19.674151Z"
    }
   },
   "cell_type": "code",
   "source": "print(X)",
   "id": "2af83c4f4167ecc5",
   "outputs": [
    {
     "name": "stdout",
     "output_type": "stream",
     "text": [
      "[['Built-up  Area' '7th Phase JP Nagar' 1080.0 2.0 2.0 2]\n",
      " ['Super built-up  Area' '7th Phase JP Nagar' 1270.0 2.0 2.0 2]\n",
      " ['Built-up  Area' '7th Phase JP Nagar' 1420.0 2.0 1.0 3]\n",
      " ...\n",
      " ['Super built-up  Area' 'other' 1715.0 3.0 3.0 3]\n",
      " ['Super built-up  Area' 'other' 4689.0 4.0 1.0 4]\n",
      " ['Super built-up  Area' 'other' 550.0 1.0 1.0 1]]\n"
     ]
    }
   ],
   "execution_count": 48
  },
  {
   "metadata": {
    "ExecuteTime": {
     "end_time": "2024-06-20T14:29:19.689085Z",
     "start_time": "2024-06-20T14:29:19.683122Z"
    }
   },
   "cell_type": "code",
   "source": "print(y)",
   "id": "925697dabdf49ea",
   "outputs": [
    {
     "name": "stdout",
     "output_type": "stream",
     "text": [
      "[ 72.  93. 100. ... 112. 488.  17.]\n"
     ]
    }
   ],
   "execution_count": 49
  },
  {
   "metadata": {},
   "cell_type": "markdown",
   "source": "### **Dividing data into training and test set**",
   "id": "7fb49519c363d047"
  },
  {
   "metadata": {
    "ExecuteTime": {
     "end_time": "2024-06-20T14:29:21.245761Z",
     "start_time": "2024-06-20T14:29:19.719504Z"
    }
   },
   "cell_type": "code",
   "source": [
    "from sklearn.model_selection import train_test_split\n",
    "X_train, X_test, y_train, y_test = train_test_split(X, y, test_size=0.2, random_state=42)"
   ],
   "id": "3ddef35ede28c628",
   "outputs": [],
   "execution_count": 50
  },
  {
   "metadata": {},
   "cell_type": "markdown",
   "source": "### **Encoding categorical data**",
   "id": "5ad516eaf24e46fe"
  },
  {
   "metadata": {},
   "cell_type": "markdown",
   "source": "#### **Encoding the Independent Variable**",
   "id": "d7c04bc50cccea3b"
  },
  {
   "metadata": {
    "ExecuteTime": {
     "end_time": "2024-06-20T14:29:21.285267Z",
     "start_time": "2024-06-20T14:29:21.249071Z"
    }
   },
   "cell_type": "code",
   "source": [
    "from sklearn.compose import ColumnTransformer\n",
    "from sklearn.preprocessing import OneHotEncoder\n",
    "ct = ColumnTransformer(transformers=[('encoder', OneHotEncoder(), [0,1])], remainder='passthrough')\n",
    "X_train = ct.fit_transform(X_train)\n",
    "X_test = ct.transform(X_test)"
   ],
   "id": "a185404c106fa4b7",
   "outputs": [],
   "execution_count": 51
  },
  {
   "metadata": {},
   "cell_type": "markdown",
   "source": "#### **Encoding the Dependent Variable**",
   "id": "f156c5029618b88"
  },
  {
   "metadata": {
    "ExecuteTime": {
     "end_time": "2024-06-20T14:29:21.295361Z",
     "start_time": "2024-06-20T14:29:21.288703Z"
    }
   },
   "cell_type": "code",
   "source": [
    "from sklearn.preprocessing import LabelEncoder\n",
    "le = LabelEncoder()\n",
    "y = le.fit_transform(y)"
   ],
   "id": "ce3214b7abafe326",
   "outputs": [],
   "execution_count": 52
  },
  {
   "metadata": {},
   "cell_type": "markdown",
   "source": "**Now we will perform the most important step of the whole process, that is none other than, Creating a machine learning model**",
   "id": "fcfac37ea8918541"
  },
  {
   "metadata": {},
   "cell_type": "markdown",
   "source": "# **Model Building**",
   "id": "ef505cf85fb65fab"
  },
  {
   "metadata": {},
   "cell_type": "markdown",
   "source": "**We will try some popular machine learning models to get the best results. To try all the regression algorithms we will use a technique called Grid Search. Which will find the best model and best parameters corresponding to that model**",
   "id": "db54e2b051859497"
  },
  {
   "metadata": {
    "ExecuteTime": {
     "end_time": "2024-06-20T14:42:50.567499Z",
     "start_time": "2024-06-20T14:29:21.298367Z"
    }
   },
   "cell_type": "code",
   "source": [
    "from sklearn.model_selection import GridSearchCV, ShuffleSplit\n",
    "from sklearn.tree import DecisionTreeRegressor\n",
    "from sklearn.ensemble import RandomForestRegressor\n",
    "from sklearn.svm import SVR\n",
    "from xgboost import XGBRegressor\n",
    "from sklearn.linear_model import LinearRegression\n",
    "\n",
    "def find_best_model_using_gridsearchcv(Xc,yc):\n",
    "    algos = {\n",
    "        'linear_regression' : {\n",
    "            'model': LinearRegression(),\n",
    "            'params': {\n",
    "                \n",
    "            }\n",
    "        },\n",
    "        'decision_tree': {\n",
    "            'model': DecisionTreeRegressor(),\n",
    "            'params': {\n",
    "                'criterion' : ['squared_error','friedman_mse'],\n",
    "                'splitter': ['best','random']\n",
    "            }\n",
    "        },\n",
    "        'XGBoost': {\n",
    "            'model': XGBRegressor(),\n",
    "            'params': {\n",
    "                'n_estimators' : [100,200,300,400,500,600],\n",
    "                'max_depth' : [1,2,3,4,5,6,7],\n",
    "                'gamma' : [0.1,0.2,0.3,0.4,0.5,0.6,0.7],\n",
    "            }\n",
    "        },\n",
    "        'random_forest': {\n",
    "            'model': RandomForestRegressor(),\n",
    "            'params': {\n",
    "                'n_estimators' : [100,200,300,400,500,600],\n",
    "                'max_depth' : [1,2,3,4,5,6,7],\n",
    "                'criterion' : ['friedman_mse'],\n",
    "            }\n",
    "        },\n",
    "        'SVR': {\n",
    "            'model': SVR(),\n",
    "            'params': {\n",
    "                'kernel' : ['rbf'],\n",
    "                'gamma' : [0.1,0.2,0.3,0.4,0.5,0.6,0.7],\n",
    "                'C' : [0.1,0.2,0.3,0.4,0.5,0.6,0.7],\n",
    "            }\n",
    "        }\n",
    "        \n",
    "    }\n",
    "    scores = []\n",
    "    cv = ShuffleSplit(n_splits=5, test_size=0.2, random_state=0)\n",
    "    for algo_name, config in algos.items():\n",
    "        gs =  GridSearchCV(config['model'], config['params'], cv=cv, return_train_score=False)\n",
    "        gs.fit(Xc,yc)\n",
    "        scores.append({\n",
    "            'model': algo_name,\n",
    "            'best_score': gs.best_score_,\n",
    "            'best_params': gs.best_params_\n",
    "        })\n",
    "\n",
    "    return pd.DataFrame(scores,columns=['model','best_score','best_params'])\n",
    "\n",
    "find_best_model_using_gridsearchcv(X_train,y_train)"
   ],
   "id": "63015cca50b53bc",
   "outputs": [
    {
     "data": {
      "text/plain": [
       "               model  best_score  \\\n",
       "0  linear_regression    0.843382   \n",
       "1      decision_tree    0.685352   \n",
       "2            XGBoost    0.847993   \n",
       "3      random_forest    0.792609   \n",
       "4                SVR    0.015797   \n",
       "\n",
       "                                         best_params  \n",
       "0                                                 {}  \n",
       "1  {'criterion': 'friedman_mse', 'splitter': 'ran...  \n",
       "2  {'gamma': 0.1, 'max_depth': 2, 'n_estimators':...  \n",
       "3  {'criterion': 'friedman_mse', 'max_depth': 7, ...  \n",
       "4          {'C': 0.7, 'gamma': 0.1, 'kernel': 'rbf'}  "
      ],
      "text/html": [
       "<div>\n",
       "<style scoped>\n",
       "    .dataframe tbody tr th:only-of-type {\n",
       "        vertical-align: middle;\n",
       "    }\n",
       "\n",
       "    .dataframe tbody tr th {\n",
       "        vertical-align: top;\n",
       "    }\n",
       "\n",
       "    .dataframe thead th {\n",
       "        text-align: right;\n",
       "    }\n",
       "</style>\n",
       "<table border=\"1\" class=\"dataframe\">\n",
       "  <thead>\n",
       "    <tr style=\"text-align: right;\">\n",
       "      <th></th>\n",
       "      <th>model</th>\n",
       "      <th>best_score</th>\n",
       "      <th>best_params</th>\n",
       "    </tr>\n",
       "  </thead>\n",
       "  <tbody>\n",
       "    <tr>\n",
       "      <th>0</th>\n",
       "      <td>linear_regression</td>\n",
       "      <td>0.843382</td>\n",
       "      <td>{}</td>\n",
       "    </tr>\n",
       "    <tr>\n",
       "      <th>1</th>\n",
       "      <td>decision_tree</td>\n",
       "      <td>0.685352</td>\n",
       "      <td>{'criterion': 'friedman_mse', 'splitter': 'ran...</td>\n",
       "    </tr>\n",
       "    <tr>\n",
       "      <th>2</th>\n",
       "      <td>XGBoost</td>\n",
       "      <td>0.847993</td>\n",
       "      <td>{'gamma': 0.1, 'max_depth': 2, 'n_estimators':...</td>\n",
       "    </tr>\n",
       "    <tr>\n",
       "      <th>3</th>\n",
       "      <td>random_forest</td>\n",
       "      <td>0.792609</td>\n",
       "      <td>{'criterion': 'friedman_mse', 'max_depth': 7, ...</td>\n",
       "    </tr>\n",
       "    <tr>\n",
       "      <th>4</th>\n",
       "      <td>SVR</td>\n",
       "      <td>0.015797</td>\n",
       "      <td>{'C': 0.7, 'gamma': 0.1, 'kernel': 'rbf'}</td>\n",
       "    </tr>\n",
       "  </tbody>\n",
       "</table>\n",
       "</div>"
      ]
     },
     "execution_count": 53,
     "metadata": {},
     "output_type": "execute_result"
    }
   ],
   "execution_count": 53
  },
  {
   "metadata": {},
   "cell_type": "markdown",
   "source": "**Based on above results we can say that XG Boost  gives the best score. Hence, we will use that**",
   "id": "bd176a87c4711773"
  },
  {
   "metadata": {
    "ExecuteTime": {
     "end_time": "2024-06-20T14:42:50.658769Z",
     "start_time": "2024-06-20T14:42:50.596989Z"
    }
   },
   "cell_type": "code",
   "source": "xg_regressor = XGBRegressor(n_estimators = 400, max_depth = 2, gamma=0.1)",
   "id": "67b5403891b64e45",
   "outputs": [],
   "execution_count": 54
  },
  {
   "metadata": {
    "ExecuteTime": {
     "end_time": "2024-06-20T14:42:51.017259Z",
     "start_time": "2024-06-20T14:42:50.665514Z"
    }
   },
   "cell_type": "code",
   "source": "xg_regressor.fit(X_train, y_train)",
   "id": "167048bf72a0e027",
   "outputs": [
    {
     "data": {
      "text/plain": [
       "XGBRegressor(base_score=None, booster=None, callbacks=None,\n",
       "             colsample_bylevel=None, colsample_bynode=None,\n",
       "             colsample_bytree=None, device=None, early_stopping_rounds=None,\n",
       "             enable_categorical=False, eval_metric=None, feature_types=None,\n",
       "             gamma=0.1, grow_policy=None, importance_type=None,\n",
       "             interaction_constraints=None, learning_rate=None, max_bin=None,\n",
       "             max_cat_threshold=None, max_cat_to_onehot=None,\n",
       "             max_delta_step=None, max_depth=2, max_leaves=None,\n",
       "             min_child_weight=None, missing=nan, monotone_constraints=None,\n",
       "             multi_strategy=None, n_estimators=400, n_jobs=None,\n",
       "             num_parallel_tree=None, random_state=None, ...)"
      ],
      "text/html": [
       "<style>#sk-container-id-1 {\n",
       "  /* Definition of color scheme common for light and dark mode */\n",
       "  --sklearn-color-text: black;\n",
       "  --sklearn-color-line: gray;\n",
       "  /* Definition of color scheme for unfitted estimators */\n",
       "  --sklearn-color-unfitted-level-0: #fff5e6;\n",
       "  --sklearn-color-unfitted-level-1: #f6e4d2;\n",
       "  --sklearn-color-unfitted-level-2: #ffe0b3;\n",
       "  --sklearn-color-unfitted-level-3: chocolate;\n",
       "  /* Definition of color scheme for fitted estimators */\n",
       "  --sklearn-color-fitted-level-0: #f0f8ff;\n",
       "  --sklearn-color-fitted-level-1: #d4ebff;\n",
       "  --sklearn-color-fitted-level-2: #b3dbfd;\n",
       "  --sklearn-color-fitted-level-3: cornflowerblue;\n",
       "\n",
       "  /* Specific color for light theme */\n",
       "  --sklearn-color-text-on-default-background: var(--sg-text-color, var(--theme-code-foreground, var(--jp-content-font-color1, black)));\n",
       "  --sklearn-color-background: var(--sg-background-color, var(--theme-background, var(--jp-layout-color0, white)));\n",
       "  --sklearn-color-border-box: var(--sg-text-color, var(--theme-code-foreground, var(--jp-content-font-color1, black)));\n",
       "  --sklearn-color-icon: #696969;\n",
       "\n",
       "  @media (prefers-color-scheme: dark) {\n",
       "    /* Redefinition of color scheme for dark theme */\n",
       "    --sklearn-color-text-on-default-background: var(--sg-text-color, var(--theme-code-foreground, var(--jp-content-font-color1, white)));\n",
       "    --sklearn-color-background: var(--sg-background-color, var(--theme-background, var(--jp-layout-color0, #111)));\n",
       "    --sklearn-color-border-box: var(--sg-text-color, var(--theme-code-foreground, var(--jp-content-font-color1, white)));\n",
       "    --sklearn-color-icon: #878787;\n",
       "  }\n",
       "}\n",
       "\n",
       "#sk-container-id-1 {\n",
       "  color: var(--sklearn-color-text);\n",
       "}\n",
       "\n",
       "#sk-container-id-1 pre {\n",
       "  padding: 0;\n",
       "}\n",
       "\n",
       "#sk-container-id-1 input.sk-hidden--visually {\n",
       "  border: 0;\n",
       "  clip: rect(1px 1px 1px 1px);\n",
       "  clip: rect(1px, 1px, 1px, 1px);\n",
       "  height: 1px;\n",
       "  margin: -1px;\n",
       "  overflow: hidden;\n",
       "  padding: 0;\n",
       "  position: absolute;\n",
       "  width: 1px;\n",
       "}\n",
       "\n",
       "#sk-container-id-1 div.sk-dashed-wrapped {\n",
       "  border: 1px dashed var(--sklearn-color-line);\n",
       "  margin: 0 0.4em 0.5em 0.4em;\n",
       "  box-sizing: border-box;\n",
       "  padding-bottom: 0.4em;\n",
       "  background-color: var(--sklearn-color-background);\n",
       "}\n",
       "\n",
       "#sk-container-id-1 div.sk-container {\n",
       "  /* jupyter's `normalize.less` sets `[hidden] { display: none; }`\n",
       "     but bootstrap.min.css set `[hidden] { display: none !important; }`\n",
       "     so we also need the `!important` here to be able to override the\n",
       "     default hidden behavior on the sphinx rendered scikit-learn.org.\n",
       "     See: https://github.com/scikit-learn/scikit-learn/issues/21755 */\n",
       "  display: inline-block !important;\n",
       "  position: relative;\n",
       "}\n",
       "\n",
       "#sk-container-id-1 div.sk-text-repr-fallback {\n",
       "  display: none;\n",
       "}\n",
       "\n",
       "div.sk-parallel-item,\n",
       "div.sk-serial,\n",
       "div.sk-item {\n",
       "  /* draw centered vertical line to link estimators */\n",
       "  background-image: linear-gradient(var(--sklearn-color-text-on-default-background), var(--sklearn-color-text-on-default-background));\n",
       "  background-size: 2px 100%;\n",
       "  background-repeat: no-repeat;\n",
       "  background-position: center center;\n",
       "}\n",
       "\n",
       "/* Parallel-specific style estimator block */\n",
       "\n",
       "#sk-container-id-1 div.sk-parallel-item::after {\n",
       "  content: \"\";\n",
       "  width: 100%;\n",
       "  border-bottom: 2px solid var(--sklearn-color-text-on-default-background);\n",
       "  flex-grow: 1;\n",
       "}\n",
       "\n",
       "#sk-container-id-1 div.sk-parallel {\n",
       "  display: flex;\n",
       "  align-items: stretch;\n",
       "  justify-content: center;\n",
       "  background-color: var(--sklearn-color-background);\n",
       "  position: relative;\n",
       "}\n",
       "\n",
       "#sk-container-id-1 div.sk-parallel-item {\n",
       "  display: flex;\n",
       "  flex-direction: column;\n",
       "}\n",
       "\n",
       "#sk-container-id-1 div.sk-parallel-item:first-child::after {\n",
       "  align-self: flex-end;\n",
       "  width: 50%;\n",
       "}\n",
       "\n",
       "#sk-container-id-1 div.sk-parallel-item:last-child::after {\n",
       "  align-self: flex-start;\n",
       "  width: 50%;\n",
       "}\n",
       "\n",
       "#sk-container-id-1 div.sk-parallel-item:only-child::after {\n",
       "  width: 0;\n",
       "}\n",
       "\n",
       "/* Serial-specific style estimator block */\n",
       "\n",
       "#sk-container-id-1 div.sk-serial {\n",
       "  display: flex;\n",
       "  flex-direction: column;\n",
       "  align-items: center;\n",
       "  background-color: var(--sklearn-color-background);\n",
       "  padding-right: 1em;\n",
       "  padding-left: 1em;\n",
       "}\n",
       "\n",
       "\n",
       "/* Toggleable style: style used for estimator/Pipeline/ColumnTransformer box that is\n",
       "clickable and can be expanded/collapsed.\n",
       "- Pipeline and ColumnTransformer use this feature and define the default style\n",
       "- Estimators will overwrite some part of the style using the `sk-estimator` class\n",
       "*/\n",
       "\n",
       "/* Pipeline and ColumnTransformer style (default) */\n",
       "\n",
       "#sk-container-id-1 div.sk-toggleable {\n",
       "  /* Default theme specific background. It is overwritten whether we have a\n",
       "  specific estimator or a Pipeline/ColumnTransformer */\n",
       "  background-color: var(--sklearn-color-background);\n",
       "}\n",
       "\n",
       "/* Toggleable label */\n",
       "#sk-container-id-1 label.sk-toggleable__label {\n",
       "  cursor: pointer;\n",
       "  display: block;\n",
       "  width: 100%;\n",
       "  margin-bottom: 0;\n",
       "  padding: 0.5em;\n",
       "  box-sizing: border-box;\n",
       "  text-align: center;\n",
       "}\n",
       "\n",
       "#sk-container-id-1 label.sk-toggleable__label-arrow:before {\n",
       "  /* Arrow on the left of the label */\n",
       "  content: \"▸\";\n",
       "  float: left;\n",
       "  margin-right: 0.25em;\n",
       "  color: var(--sklearn-color-icon);\n",
       "}\n",
       "\n",
       "#sk-container-id-1 label.sk-toggleable__label-arrow:hover:before {\n",
       "  color: var(--sklearn-color-text);\n",
       "}\n",
       "\n",
       "/* Toggleable content - dropdown */\n",
       "\n",
       "#sk-container-id-1 div.sk-toggleable__content {\n",
       "  max-height: 0;\n",
       "  max-width: 0;\n",
       "  overflow: hidden;\n",
       "  text-align: left;\n",
       "  /* unfitted */\n",
       "  background-color: var(--sklearn-color-unfitted-level-0);\n",
       "}\n",
       "\n",
       "#sk-container-id-1 div.sk-toggleable__content.fitted {\n",
       "  /* fitted */\n",
       "  background-color: var(--sklearn-color-fitted-level-0);\n",
       "}\n",
       "\n",
       "#sk-container-id-1 div.sk-toggleable__content pre {\n",
       "  margin: 0.2em;\n",
       "  border-radius: 0.25em;\n",
       "  color: var(--sklearn-color-text);\n",
       "  /* unfitted */\n",
       "  background-color: var(--sklearn-color-unfitted-level-0);\n",
       "}\n",
       "\n",
       "#sk-container-id-1 div.sk-toggleable__content.fitted pre {\n",
       "  /* unfitted */\n",
       "  background-color: var(--sklearn-color-fitted-level-0);\n",
       "}\n",
       "\n",
       "#sk-container-id-1 input.sk-toggleable__control:checked~div.sk-toggleable__content {\n",
       "  /* Expand drop-down */\n",
       "  max-height: 200px;\n",
       "  max-width: 100%;\n",
       "  overflow: auto;\n",
       "}\n",
       "\n",
       "#sk-container-id-1 input.sk-toggleable__control:checked~label.sk-toggleable__label-arrow:before {\n",
       "  content: \"▾\";\n",
       "}\n",
       "\n",
       "/* Pipeline/ColumnTransformer-specific style */\n",
       "\n",
       "#sk-container-id-1 div.sk-label input.sk-toggleable__control:checked~label.sk-toggleable__label {\n",
       "  color: var(--sklearn-color-text);\n",
       "  background-color: var(--sklearn-color-unfitted-level-2);\n",
       "}\n",
       "\n",
       "#sk-container-id-1 div.sk-label.fitted input.sk-toggleable__control:checked~label.sk-toggleable__label {\n",
       "  background-color: var(--sklearn-color-fitted-level-2);\n",
       "}\n",
       "\n",
       "/* Estimator-specific style */\n",
       "\n",
       "/* Colorize estimator box */\n",
       "#sk-container-id-1 div.sk-estimator input.sk-toggleable__control:checked~label.sk-toggleable__label {\n",
       "  /* unfitted */\n",
       "  background-color: var(--sklearn-color-unfitted-level-2);\n",
       "}\n",
       "\n",
       "#sk-container-id-1 div.sk-estimator.fitted input.sk-toggleable__control:checked~label.sk-toggleable__label {\n",
       "  /* fitted */\n",
       "  background-color: var(--sklearn-color-fitted-level-2);\n",
       "}\n",
       "\n",
       "#sk-container-id-1 div.sk-label label.sk-toggleable__label,\n",
       "#sk-container-id-1 div.sk-label label {\n",
       "  /* The background is the default theme color */\n",
       "  color: var(--sklearn-color-text-on-default-background);\n",
       "}\n",
       "\n",
       "/* On hover, darken the color of the background */\n",
       "#sk-container-id-1 div.sk-label:hover label.sk-toggleable__label {\n",
       "  color: var(--sklearn-color-text);\n",
       "  background-color: var(--sklearn-color-unfitted-level-2);\n",
       "}\n",
       "\n",
       "/* Label box, darken color on hover, fitted */\n",
       "#sk-container-id-1 div.sk-label.fitted:hover label.sk-toggleable__label.fitted {\n",
       "  color: var(--sklearn-color-text);\n",
       "  background-color: var(--sklearn-color-fitted-level-2);\n",
       "}\n",
       "\n",
       "/* Estimator label */\n",
       "\n",
       "#sk-container-id-1 div.sk-label label {\n",
       "  font-family: monospace;\n",
       "  font-weight: bold;\n",
       "  display: inline-block;\n",
       "  line-height: 1.2em;\n",
       "}\n",
       "\n",
       "#sk-container-id-1 div.sk-label-container {\n",
       "  text-align: center;\n",
       "}\n",
       "\n",
       "/* Estimator-specific */\n",
       "#sk-container-id-1 div.sk-estimator {\n",
       "  font-family: monospace;\n",
       "  border: 1px dotted var(--sklearn-color-border-box);\n",
       "  border-radius: 0.25em;\n",
       "  box-sizing: border-box;\n",
       "  margin-bottom: 0.5em;\n",
       "  /* unfitted */\n",
       "  background-color: var(--sklearn-color-unfitted-level-0);\n",
       "}\n",
       "\n",
       "#sk-container-id-1 div.sk-estimator.fitted {\n",
       "  /* fitted */\n",
       "  background-color: var(--sklearn-color-fitted-level-0);\n",
       "}\n",
       "\n",
       "/* on hover */\n",
       "#sk-container-id-1 div.sk-estimator:hover {\n",
       "  /* unfitted */\n",
       "  background-color: var(--sklearn-color-unfitted-level-2);\n",
       "}\n",
       "\n",
       "#sk-container-id-1 div.sk-estimator.fitted:hover {\n",
       "  /* fitted */\n",
       "  background-color: var(--sklearn-color-fitted-level-2);\n",
       "}\n",
       "\n",
       "/* Specification for estimator info (e.g. \"i\" and \"?\") */\n",
       "\n",
       "/* Common style for \"i\" and \"?\" */\n",
       "\n",
       ".sk-estimator-doc-link,\n",
       "a:link.sk-estimator-doc-link,\n",
       "a:visited.sk-estimator-doc-link {\n",
       "  float: right;\n",
       "  font-size: smaller;\n",
       "  line-height: 1em;\n",
       "  font-family: monospace;\n",
       "  background-color: var(--sklearn-color-background);\n",
       "  border-radius: 1em;\n",
       "  height: 1em;\n",
       "  width: 1em;\n",
       "  text-decoration: none !important;\n",
       "  margin-left: 1ex;\n",
       "  /* unfitted */\n",
       "  border: var(--sklearn-color-unfitted-level-1) 1pt solid;\n",
       "  color: var(--sklearn-color-unfitted-level-1);\n",
       "}\n",
       "\n",
       ".sk-estimator-doc-link.fitted,\n",
       "a:link.sk-estimator-doc-link.fitted,\n",
       "a:visited.sk-estimator-doc-link.fitted {\n",
       "  /* fitted */\n",
       "  border: var(--sklearn-color-fitted-level-1) 1pt solid;\n",
       "  color: var(--sklearn-color-fitted-level-1);\n",
       "}\n",
       "\n",
       "/* On hover */\n",
       "div.sk-estimator:hover .sk-estimator-doc-link:hover,\n",
       ".sk-estimator-doc-link:hover,\n",
       "div.sk-label-container:hover .sk-estimator-doc-link:hover,\n",
       ".sk-estimator-doc-link:hover {\n",
       "  /* unfitted */\n",
       "  background-color: var(--sklearn-color-unfitted-level-3);\n",
       "  color: var(--sklearn-color-background);\n",
       "  text-decoration: none;\n",
       "}\n",
       "\n",
       "div.sk-estimator.fitted:hover .sk-estimator-doc-link.fitted:hover,\n",
       ".sk-estimator-doc-link.fitted:hover,\n",
       "div.sk-label-container:hover .sk-estimator-doc-link.fitted:hover,\n",
       ".sk-estimator-doc-link.fitted:hover {\n",
       "  /* fitted */\n",
       "  background-color: var(--sklearn-color-fitted-level-3);\n",
       "  color: var(--sklearn-color-background);\n",
       "  text-decoration: none;\n",
       "}\n",
       "\n",
       "/* Span, style for the box shown on hovering the info icon */\n",
       ".sk-estimator-doc-link span {\n",
       "  display: none;\n",
       "  z-index: 9999;\n",
       "  position: relative;\n",
       "  font-weight: normal;\n",
       "  right: .2ex;\n",
       "  padding: .5ex;\n",
       "  margin: .5ex;\n",
       "  width: min-content;\n",
       "  min-width: 20ex;\n",
       "  max-width: 50ex;\n",
       "  color: var(--sklearn-color-text);\n",
       "  box-shadow: 2pt 2pt 4pt #999;\n",
       "  /* unfitted */\n",
       "  background: var(--sklearn-color-unfitted-level-0);\n",
       "  border: .5pt solid var(--sklearn-color-unfitted-level-3);\n",
       "}\n",
       "\n",
       ".sk-estimator-doc-link.fitted span {\n",
       "  /* fitted */\n",
       "  background: var(--sklearn-color-fitted-level-0);\n",
       "  border: var(--sklearn-color-fitted-level-3);\n",
       "}\n",
       "\n",
       ".sk-estimator-doc-link:hover span {\n",
       "  display: block;\n",
       "}\n",
       "\n",
       "/* \"?\"-specific style due to the `<a>` HTML tag */\n",
       "\n",
       "#sk-container-id-1 a.estimator_doc_link {\n",
       "  float: right;\n",
       "  font-size: 1rem;\n",
       "  line-height: 1em;\n",
       "  font-family: monospace;\n",
       "  background-color: var(--sklearn-color-background);\n",
       "  border-radius: 1rem;\n",
       "  height: 1rem;\n",
       "  width: 1rem;\n",
       "  text-decoration: none;\n",
       "  /* unfitted */\n",
       "  color: var(--sklearn-color-unfitted-level-1);\n",
       "  border: var(--sklearn-color-unfitted-level-1) 1pt solid;\n",
       "}\n",
       "\n",
       "#sk-container-id-1 a.estimator_doc_link.fitted {\n",
       "  /* fitted */\n",
       "  border: var(--sklearn-color-fitted-level-1) 1pt solid;\n",
       "  color: var(--sklearn-color-fitted-level-1);\n",
       "}\n",
       "\n",
       "/* On hover */\n",
       "#sk-container-id-1 a.estimator_doc_link:hover {\n",
       "  /* unfitted */\n",
       "  background-color: var(--sklearn-color-unfitted-level-3);\n",
       "  color: var(--sklearn-color-background);\n",
       "  text-decoration: none;\n",
       "}\n",
       "\n",
       "#sk-container-id-1 a.estimator_doc_link.fitted:hover {\n",
       "  /* fitted */\n",
       "  background-color: var(--sklearn-color-fitted-level-3);\n",
       "}\n",
       "</style><div id=\"sk-container-id-1\" class=\"sk-top-container\"><div class=\"sk-text-repr-fallback\"><pre>XGBRegressor(base_score=None, booster=None, callbacks=None,\n",
       "             colsample_bylevel=None, colsample_bynode=None,\n",
       "             colsample_bytree=None, device=None, early_stopping_rounds=None,\n",
       "             enable_categorical=False, eval_metric=None, feature_types=None,\n",
       "             gamma=0.1, grow_policy=None, importance_type=None,\n",
       "             interaction_constraints=None, learning_rate=None, max_bin=None,\n",
       "             max_cat_threshold=None, max_cat_to_onehot=None,\n",
       "             max_delta_step=None, max_depth=2, max_leaves=None,\n",
       "             min_child_weight=None, missing=nan, monotone_constraints=None,\n",
       "             multi_strategy=None, n_estimators=400, n_jobs=None,\n",
       "             num_parallel_tree=None, random_state=None, ...)</pre><b>In a Jupyter environment, please rerun this cell to show the HTML representation or trust the notebook. <br />On GitHub, the HTML representation is unable to render, please try loading this page with nbviewer.org.</b></div><div class=\"sk-container\" hidden><div class=\"sk-item\"><div class=\"sk-estimator fitted sk-toggleable\"><input class=\"sk-toggleable__control sk-hidden--visually\" id=\"sk-estimator-id-1\" type=\"checkbox\" checked><label for=\"sk-estimator-id-1\" class=\"sk-toggleable__label fitted sk-toggleable__label-arrow fitted\">&nbsp;XGBRegressor<span class=\"sk-estimator-doc-link fitted\">i<span>Fitted</span></span></label><div class=\"sk-toggleable__content fitted\"><pre>XGBRegressor(base_score=None, booster=None, callbacks=None,\n",
       "             colsample_bylevel=None, colsample_bynode=None,\n",
       "             colsample_bytree=None, device=None, early_stopping_rounds=None,\n",
       "             enable_categorical=False, eval_metric=None, feature_types=None,\n",
       "             gamma=0.1, grow_policy=None, importance_type=None,\n",
       "             interaction_constraints=None, learning_rate=None, max_bin=None,\n",
       "             max_cat_threshold=None, max_cat_to_onehot=None,\n",
       "             max_delta_step=None, max_depth=2, max_leaves=None,\n",
       "             min_child_weight=None, missing=nan, monotone_constraints=None,\n",
       "             multi_strategy=None, n_estimators=400, n_jobs=None,\n",
       "             num_parallel_tree=None, random_state=None, ...)</pre></div> </div></div></div></div>"
      ]
     },
     "execution_count": 55,
     "metadata": {},
     "output_type": "execute_result"
    }
   ],
   "execution_count": 55
  },
  {
   "metadata": {
    "ExecuteTime": {
     "end_time": "2024-06-20T14:42:51.043020Z",
     "start_time": "2024-06-20T14:42:51.022053Z"
    }
   },
   "cell_type": "code",
   "source": "xg_regressor.score(X_test, y_test)",
   "id": "e75f90cc14f20b5f",
   "outputs": [
    {
     "data": {
      "text/plain": [
       "0.8950321416603576"
      ]
     },
     "execution_count": 56,
     "metadata": {},
     "output_type": "execute_result"
    }
   ],
   "execution_count": 56
  },
  {
   "metadata": {},
   "cell_type": "markdown",
   "source": "#### **Predicting a single sample**",
   "id": "1d46caaaf1f585fd"
  },
  {
   "metadata": {
    "ExecuteTime": {
     "end_time": "2024-06-20T14:42:51.067872Z",
     "start_time": "2024-06-20T14:42:51.046034Z"
    }
   },
   "cell_type": "code",
   "source": [
    "def predict_single_sample(house_area_type, house_location, sqft, number_of_bathroom, number_of_balcony, number_of_bedroom):\n",
    "    return xg_regressor.predict(ct.transform([[house_area_type, house_location, sqft, number_of_bathroom, number_of_balcony, number_of_bedroom]]))"
   ],
   "id": "cc48311ab230ecef",
   "outputs": [],
   "execution_count": 57
  },
  {
   "metadata": {
    "ExecuteTime": {
     "end_time": "2024-06-20T14:42:51.140154Z",
     "start_time": "2024-06-20T14:42:51.069880Z"
    }
   },
   "cell_type": "code",
   "source": "predict_single_sample('Built-up  Area','7th Phase JP Nagar', 1580.0, 2.0, 2.0, 6)",
   "id": "82e9364f6b124a38",
   "outputs": [
    {
     "data": {
      "text/plain": [
       "array([104.74112], dtype=float32)"
      ]
     },
     "execution_count": 58,
     "metadata": {},
     "output_type": "execute_result"
    }
   ],
   "execution_count": 58
  },
  {
   "metadata": {
    "ExecuteTime": {
     "end_time": "2024-06-20T14:42:51.171309Z",
     "start_time": "2024-06-20T14:42:51.158386Z"
    }
   },
   "cell_type": "code",
   "source": "predict_single_sample('Super built-up  Area', '7th Phase JP Nagar', 1270.0, 2.0, 2.0, 4)",
   "id": "718cb82bcbee714d",
   "outputs": [
    {
     "data": {
      "text/plain": [
       "array([93.18131], dtype=float32)"
      ]
     },
     "execution_count": 59,
     "metadata": {},
     "output_type": "execute_result"
    }
   ],
   "execution_count": 59
  },
  {
   "metadata": {
    "ExecuteTime": {
     "end_time": "2024-06-20T14:42:51.198653Z",
     "start_time": "2024-06-20T14:42:51.172324Z"
    }
   },
   "cell_type": "code",
   "source": [
    "import pickle\n",
    "with open('../server/artifacts/model.pickle','wb') as f:\n",
    "    pickle.dump(xg_regressor,f)"
   ],
   "id": "8a957e83c7d6d32a",
   "outputs": [],
   "execution_count": 60
  },
  {
   "metadata": {
    "ExecuteTime": {
     "end_time": "2024-06-20T14:42:51.233086Z",
     "start_time": "2024-06-20T14:42:51.201179Z"
    }
   },
   "cell_type": "code",
   "source": [
    "import json\n",
    "categorical = {\n",
    "    'locations' : [col for col in df8['location'].unique()],\n",
    "    'area_type' : [col for col in df8['area_type'].unique()]\n",
    "}\n",
    "with open(\"../server/artifacts/artifacts.json\",\"w\") as f:\n",
    "    f.write(json.dumps(categorical))"
   ],
   "id": "96ac0c766fde2a6b",
   "outputs": [],
   "execution_count": 61
  },
  {
   "metadata": {
    "ExecuteTime": {
     "end_time": "2024-06-20T14:42:51.245521Z",
     "start_time": "2024-06-20T14:42:51.234092Z"
    }
   },
   "cell_type": "code",
   "source": [
    "with open('../server/artifacts/column_transformer.pickle', 'wb') as f:\n",
    "    pickle.dump(ct, f)"
   ],
   "id": "fc6192e632cd1813",
   "outputs": [],
   "execution_count": 62
  }
 ],
 "metadata": {
  "kernelspec": {
   "display_name": "Python 3",
   "language": "python",
   "name": "python3"
  },
  "language_info": {
   "codemirror_mode": {
    "name": "ipython",
    "version": 2
   },
   "file_extension": ".py",
   "mimetype": "text/x-python",
   "name": "python",
   "nbconvert_exporter": "python",
   "pygments_lexer": "ipython2",
   "version": "2.7.6"
  }
 },
 "nbformat": 4,
 "nbformat_minor": 5
}
